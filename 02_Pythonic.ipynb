{
 "cells": [
  {
   "cell_type": "markdown",
   "metadata": {},
   "source": [
    "# What is Pythonic?"
   ]
  },
  {
   "cell_type": "markdown",
   "metadata": {},
   "source": [
    "I like the following explanation:\n",
    "## \"Pythonic means code that doesn't just get the syntax right but that follows the conventions of the Python community and uses the language in the way it is intended to be used.\"\n",
    "\n",
    "-- dreftymac http://stackoverflow.com/a/25011492/2213697"
   ]
  },
  {
   "cell_type": "code",
   "execution_count": 1,
   "metadata": {},
   "outputs": [
    {
     "name": "stdout",
     "output_type": "stream",
     "text": [
      "The Zen of Python, by Tim Peters\n",
      "\n",
      "Beautiful is better than ugly.\n",
      "Explicit is better than implicit.\n",
      "Simple is better than complex.\n",
      "Complex is better than complicated.\n",
      "Flat is better than nested.\n",
      "Sparse is better than dense.\n",
      "Readability counts.\n",
      "Special cases aren't special enough to break the rules.\n",
      "Although practicality beats purity.\n",
      "Errors should never pass silently.\n",
      "Unless explicitly silenced.\n",
      "In the face of ambiguity, refuse the temptation to guess.\n",
      "There should be one-- and preferably only one --obvious way to do it.\n",
      "Although that way may not be obvious at first unless you're Dutch.\n",
      "Now is better than never.\n",
      "Although never is often better than *right* now.\n",
      "If the implementation is hard to explain, it's a bad idea.\n",
      "If the implementation is easy to explain, it may be a good idea.\n",
      "Namespaces are one honking great idea -- let's do more of those!\n"
     ]
    }
   ],
   "source": [
    "import this"
   ]
  },
  {
   "cell_type": "code",
   "execution_count": 2,
   "metadata": {
    "collapsed": true
   },
   "outputs": [],
   "source": [
    "import this"
   ]
  },
  {
   "cell_type": "code",
   "execution_count": 3,
   "metadata": {},
   "outputs": [
    {
     "name": "stdout",
     "output_type": "stream",
     "text": [
      "The 0th element is Hello\n",
      "The 1th element is we\n",
      "The 2th element is are\n",
      "The 3th element is doing\n",
      "The 4th element is python\n"
     ]
    }
   ],
   "source": [
    "# Bad example\n",
    "lst1 = [\"Hello\", \"we\", \"are\", \"doing\", \"python\"]\n",
    "\n",
    "i = 0\n",
    "\n",
    "while i < len(lst1):\n",
    "    print (\"The %dth element is %s\" % (i, lst1[i]))\n",
    "    i = i + 1\n",
    "    "
   ]
  },
  {
   "cell_type": "code",
   "execution_count": 4,
   "metadata": {},
   "outputs": [
    {
     "name": "stdout",
     "output_type": "stream",
     "text": [
      "Hello\n",
      "we\n",
      "are\n",
      "doing\n",
      "python\n"
     ]
    }
   ],
   "source": [
    "lst1 = [\"Hello\", \"we\", \"are\", \"doing\", \"python\"]\n",
    "\n",
    "for e in lst1: # oh but the index?\n",
    "    print (e)"
   ]
  },
  {
   "cell_type": "code",
   "execution_count": 5,
   "metadata": {},
   "outputs": [
    {
     "name": "stdout",
     "output_type": "stream",
     "text": [
      "The 0th element is Hello\n",
      "The 1th element is we\n",
      "The 2th element is are\n",
      "The 3th element is doing\n",
      "The 4th element is python\n"
     ]
    }
   ],
   "source": [
    "lst1 = \"Hello we are doing python\".split(\" \")\n",
    "\n",
    "for i, e in enumerate(lst1):\n",
    "    print (\"The %dth element is %s\" % (i, e))"
   ]
  },
  {
   "cell_type": "code",
   "execution_count": 6,
   "metadata": {},
   "outputs": [
    {
     "name": "stdout",
     "output_type": "stream",
     "text": [
      "python\n",
      "doing\n",
      "are\n",
      "we\n",
      "Hello\n"
     ]
    }
   ],
   "source": [
    "lst1 = \"Hello we are doing python\".split(\" \")\n",
    "\n",
    "for e in reversed(lst1): # faster then everthing else with indx\n",
    "    print (e)"
   ]
  },
  {
   "cell_type": "code",
   "execution_count": 13,
   "metadata": {},
   "outputs": [
    {
     "name": "stdout",
     "output_type": "stream",
     "text": [
      "Hello And\n",
      "we we\n",
      "are are\n",
      "doing it\n",
      "python smart\n"
     ]
    }
   ],
   "source": [
    "lst1 = \"Hello we are doing python\".split(\" \")\n",
    "lst2 = \"And we are it smart\".split(\" \")\n",
    "\n",
    "for i, (e1,e2) in enumerate(zip(lst1, lst2)): # izip in python2\n",
    "    print (e1, e2)"
   ]
  },
  {
   "cell_type": "code",
   "execution_count": 14,
   "metadata": {},
   "outputs": [
    {
     "name": "stdout",
     "output_type": "stream",
     "text": [
      "Hello\n",
      "are\n",
      "doing\n",
      "python\n",
      "we\n"
     ]
    }
   ],
   "source": [
    "lst1 = \"Hello we are doing python\".split(\" \")\n",
    "\n",
    "for e in sorted(lst1): # faster then everthing else with indx\n",
    "    print (e)"
   ]
  },
  {
   "cell_type": "markdown",
   "metadata": {},
   "source": [
    "# Implementing find"
   ]
  },
  {
   "cell_type": "code",
   "execution_count": 16,
   "metadata": {},
   "outputs": [
    {
     "name": "stdout",
     "output_type": "stream",
     "text": [
      "1\n"
     ]
    }
   ],
   "source": [
    "\n",
    "def find():\n",
    "    lst1 = [\"Hello\", \"we\", \"are\", \"doing\", \"python\"]\n",
    "    found = False\n",
    "    for i, value in enumerate(lst1):\n",
    "        if value == \"we\":\n",
    "            found = True\n",
    "            break\n",
    "    if not found:\n",
    "        return \"Not Found\"\n",
    "    else:\n",
    "        return i\n",
    "    \n",
    "print (find())"
   ]
  },
  {
   "cell_type": "code",
   "execution_count": 7,
   "metadata": {},
   "outputs": [
    {
     "name": "stdout",
     "output_type": "stream",
     "text": [
      "Not Found\n"
     ]
    }
   ],
   "source": [
    "\n",
    "# Else on loops:\n",
    "# If a break its fine, if not go to else\n",
    "def find():\n",
    "    lst1 = [\"Hello\", \"we\", \"are\", \"doing\", \"python\"]\n",
    "    found = False\n",
    "    for i, value in enumerate(lst1):\n",
    "        if value == \"2we\":\n",
    "            break\n",
    "    else:\n",
    "        return \"Not Found\"\n",
    "    return i\n",
    "print (find()) # What just happend?"
   ]
  },
  {
   "cell_type": "markdown",
   "metadata": {},
   "source": [
    "# For over dict's"
   ]
  },
  {
   "cell_type": "code",
   "execution_count": 18,
   "metadata": {},
   "outputs": [
    {
     "name": "stdout",
     "output_type": "stream",
     "text": [
      "a\n",
      "c\n",
      "b\n",
      "d\n"
     ]
    }
   ],
   "source": [
    "dic = {\"a\" : \"We\", \"b\" : \"are\", \"c\" : \"using\", \"d\" : \"python\"}\n",
    "for k in dic:\n",
    "    print (k)"
   ]
  },
  {
   "cell_type": "code",
   "execution_count": 17,
   "metadata": {},
   "outputs": [
    {
     "name": "stdout",
     "output_type": "stream",
     "text": [
      "a We\n",
      "b are\n",
      "c using\n",
      "d python\n"
     ]
    }
   ],
   "source": [
    "dic = {\"a\" : \"We\", \"b\" : \"are\", \"c\" : \"using\", \"d\" : \"python\"}\n",
    "for k, v in dic.items(): # in python 2 use iteritems not items()\n",
    "    print (k, v)"
   ]
  },
  {
   "cell_type": "markdown",
   "metadata": {},
   "source": [
    "# Again on difference between python2 and python3, 3 gos with indecies 2 with values and then over time implemted i"
   ]
  },
  {
   "cell_type": "code",
   "execution_count": 20,
   "metadata": {
    "collapsed": true
   },
   "outputs": [],
   "source": [
    "# Count with a dic"
   ]
  },
  {
   "cell_type": "code",
   "execution_count": 22,
   "metadata": {},
   "outputs": [
    {
     "data": {
      "text/plain": [
       "{'blue': 2, 'green': 1, 'red': 3}"
      ]
     },
     "execution_count": 22,
     "metadata": {},
     "output_type": "execute_result"
    }
   ],
   "source": [
    "colors = [\"red\", \"blue\", \"blue\", \"green\", \"red\", \"red\"]\n",
    "d = {}\n",
    "for color in colors:\n",
    "    if color not in d:\n",
    "        d[color] = 0\n",
    "    d[color] += 1\n",
    "d"
   ]
  },
  {
   "cell_type": "code",
   "execution_count": 23,
   "metadata": {},
   "outputs": [
    {
     "data": {
      "text/plain": [
       "{'blue': 2, 'green': 1, 'red': 3}"
      ]
     },
     "execution_count": 23,
     "metadata": {},
     "output_type": "execute_result"
    }
   ],
   "source": [
    "d = {}\n",
    "for color in colors:\n",
    "    d[color] = d.get(color, 0) + 1\n",
    "d"
   ]
  },
  {
   "cell_type": "code",
   "execution_count": 28,
   "metadata": {},
   "outputs": [
    {
     "data": {
      "text/plain": [
       "defaultdict(int, {'blue': 2, 'green': 1, 'red': 3})"
      ]
     },
     "execution_count": 28,
     "metadata": {},
     "output_type": "execute_result"
    }
   ],
   "source": [
    "import collections\n",
    "d = collections.defaultdict(int)\n",
    "for color in colors:\n",
    "    d[color] += 1\n",
    "d"
   ]
  },
  {
   "cell_type": "code",
   "execution_count": 31,
   "metadata": {},
   "outputs": [
    {
     "name": "stdout",
     "output_type": "stream",
     "text": [
      "0\n",
      "1\n",
      "1\n",
      "2\n",
      "3\n"
     ]
    }
   ],
   "source": [
    "def fibonacci (n):\n",
    "    x = 0\n",
    "    y = 1\n",
    "    for i in range(n):\n",
    "        print (x)\n",
    "        t = y\n",
    "        y = x + y\n",
    "        x = t\n",
    "        \n",
    "fibonacci(5)"
   ]
  },
  {
   "cell_type": "code",
   "execution_count": 33,
   "metadata": {},
   "outputs": [
    {
     "name": "stdout",
     "output_type": "stream",
     "text": [
      "0\n",
      "1\n",
      "1\n",
      "2\n",
      "3\n"
     ]
    }
   ],
   "source": [
    "def fibonacci (n):\n",
    "    x, y = 0, 1\n",
    "    for i in range(n):\n",
    "        print (x)\n",
    "        x, y = y,  x + y\n",
    "        \n",
    "fibonacci(5)"
   ]
  },
  {
   "cell_type": "markdown",
   "metadata": {
    "collapsed": true
   },
   "source": [
    "## Unpacking"
   ]
  },
  {
   "cell_type": "code",
   "execution_count": 5,
   "metadata": {},
   "outputs": [
    {
     "data": {
      "text/plain": [
       "(1, 0)"
      ]
     },
     "execution_count": 5,
     "metadata": {},
     "output_type": "execute_result"
    }
   ],
   "source": [
    "a, b = 0, 1\n",
    "a, b = b, a\n",
    "a, b"
   ]
  },
  {
   "cell_type": "code",
   "execution_count": 9,
   "metadata": {},
   "outputs": [
    {
     "data": {
      "text/plain": [
       "3"
      ]
     },
     "execution_count": 9,
     "metadata": {},
     "output_type": "execute_result"
    }
   ],
   "source": [
    "a, (b, c) = 1, (2, 3)\n",
    "c"
   ]
  },
  {
   "cell_type": "code",
   "execution_count": 13,
   "metadata": {},
   "outputs": [
    {
     "name": "stdout",
     "output_type": "stream",
     "text": [
      "a =  1\n",
      "rest =  [2, 3]\n"
     ]
    }
   ],
   "source": [
    "# Only avalible in python 3\n",
    "a, *rest = [1, 2, 3]\n",
    "print (\"a =  %s\" % a)\n",
    "print (\"rest =  %s\" % rest)\n"
   ]
  },
  {
   "cell_type": "code",
   "execution_count": 14,
   "metadata": {},
   "outputs": [
    {
     "name": "stdout",
     "output_type": "stream",
     "text": [
      "a =  1\n",
      "middle =  [2, 3]\n",
      "c =  4\n"
     ]
    }
   ],
   "source": [
    "a, *middle, c = [1, 2, 3, 4]\n",
    "# a = 1, middle = [2, 3], c = 4\n",
    "\n",
    "print (\"a =  %s\" % a)\n",
    "print (\"middle =  %s\" % middle)\n",
    "print (\"c =  %s\" % c)"
   ]
  },
  {
   "cell_type": "code",
   "execution_count": null,
   "metadata": {
    "collapsed": true
   },
   "outputs": [],
   "source": []
  }
 ],
 "metadata": {
  "kernelspec": {
   "display_name": "Python 3",
   "language": "python",
   "name": "python3"
  },
  "language_info": {
   "codemirror_mode": {
    "name": "ipython",
    "version": 3
   },
   "file_extension": ".py",
   "mimetype": "text/x-python",
   "name": "python",
   "nbconvert_exporter": "python",
   "pygments_lexer": "ipython3",
   "version": "3.6.1"
  }
 },
 "nbformat": 4,
 "nbformat_minor": 2
}
