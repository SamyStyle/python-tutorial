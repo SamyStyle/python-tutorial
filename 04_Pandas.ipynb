{
 "cells": [
  {
   "cell_type": "markdown",
   "metadata": {},
   "source": [
    "# Introduction to Pandas"
   ]
  },
  {
   "cell_type": "code",
   "execution_count": 1,
   "metadata": {
    "collapsed": true
   },
   "outputs": [],
   "source": [
    "import pandas as pd"
   ]
  },
  {
   "cell_type": "code",
   "execution_count": 2,
   "metadata": {},
   "outputs": [
    {
     "data": {
      "text/plain": [
       "'0.19.2'"
      ]
     },
     "execution_count": 2,
     "metadata": {},
     "output_type": "execute_result"
    }
   ],
   "source": [
    "pd.__version__"
   ]
  },
  {
   "cell_type": "markdown",
   "metadata": {},
   "source": [
    "# So now, what is Pandas good for?\n",
    "\n",
    "Hadeling data structured in a table."
   ]
  },
  {
   "cell_type": "code",
   "execution_count": 3,
   "metadata": {},
   "outputs": [
    {
     "data": {
      "text/html": [
       "<div>\n",
       "<table border=\"1\" class=\"dataframe\">\n",
       "  <thead>\n",
       "    <tr style=\"text-align: right;\">\n",
       "      <th></th>\n",
       "    </tr>\n",
       "  </thead>\n",
       "  <tbody>\n",
       "  </tbody>\n",
       "</table>\n",
       "</div>"
      ],
      "text/plain": [
       "Empty DataFrame\n",
       "Columns: []\n",
       "Index: []"
      ]
     },
     "execution_count": 3,
     "metadata": {},
     "output_type": "execute_result"
    }
   ],
   "source": [
    "df = pd.DataFrame() # Using df for DaraFrames is also a conversation across borders\n",
    "df # an empry DataFrame"
   ]
  },
  {
   "cell_type": "code",
   "execution_count": 4,
   "metadata": {},
   "outputs": [
    {
     "data": {
      "text/html": [
       "<div>\n",
       "<table border=\"1\" class=\"dataframe\">\n",
       "  <thead>\n",
       "    <tr style=\"text-align: right;\">\n",
       "      <th></th>\n",
       "      <th>Column1</th>\n",
       "      <th>Column2</th>\n",
       "    </tr>\n",
       "  </thead>\n",
       "  <tbody>\n",
       "  </tbody>\n",
       "</table>\n",
       "</div>"
      ],
      "text/plain": [
       "Empty DataFrame\n",
       "Columns: [Column1, Column2]\n",
       "Index: []"
      ]
     },
     "execution_count": 4,
     "metadata": {},
     "output_type": "execute_result"
    }
   ],
   "source": [
    "df = pd.DataFrame(columns=[\"Column1\", \"Column2\"]) # at least we now have headings\n",
    "df"
   ]
  },
  {
   "cell_type": "code",
   "execution_count": 5,
   "metadata": {},
   "outputs": [
    {
     "data": {
      "text/html": [
       "<div>\n",
       "<table border=\"1\" class=\"dataframe\">\n",
       "  <thead>\n",
       "    <tr style=\"text-align: right;\">\n",
       "      <th></th>\n",
       "      <th>Column1</th>\n",
       "      <th>Column2</th>\n",
       "    </tr>\n",
       "  </thead>\n",
       "  <tbody>\n",
       "    <tr>\n",
       "      <th>0</th>\n",
       "      <td>foo</td>\n",
       "      <td>ba</td>\n",
       "    </tr>\n",
       "  </tbody>\n",
       "</table>\n",
       "</div>"
      ],
      "text/plain": [
       "  Column1 Column2\n",
       "0     foo      ba"
      ]
     },
     "execution_count": 5,
     "metadata": {},
     "output_type": "execute_result"
    }
   ],
   "source": [
    "df.loc[0] = [\"foo\", \"ba\"]\n",
    "df"
   ]
  },
  {
   "cell_type": "markdown",
   "metadata": {},
   "source": [
    "### However this is an expencie operation\n",
    "Its better to start with a list and then convert it to a pandas DataFrame"
   ]
  },
  {
   "cell_type": "code",
   "execution_count": 6,
   "metadata": {},
   "outputs": [
    {
     "data": {
      "text/html": [
       "<div>\n",
       "<table border=\"1\" class=\"dataframe\">\n",
       "  <thead>\n",
       "    <tr style=\"text-align: right;\">\n",
       "      <th></th>\n",
       "      <th>Column1</th>\n",
       "      <th>Column2</th>\n",
       "      <th>Column3</th>\n",
       "      <th>Column4</th>\n",
       "    </tr>\n",
       "  </thead>\n",
       "  <tbody>\n",
       "    <tr>\n",
       "      <th>0</th>\n",
       "      <td>1</td>\n",
       "      <td>2</td>\n",
       "      <td>3</td>\n",
       "      <td>4</td>\n",
       "    </tr>\n",
       "    <tr>\n",
       "      <th>1</th>\n",
       "      <td>5</td>\n",
       "      <td>6</td>\n",
       "      <td>7</td>\n",
       "      <td>8</td>\n",
       "    </tr>\n",
       "    <tr>\n",
       "      <th>2</th>\n",
       "      <td>9</td>\n",
       "      <td>10</td>\n",
       "      <td>11</td>\n",
       "      <td>12</td>\n",
       "    </tr>\n",
       "    <tr>\n",
       "      <th>3</th>\n",
       "      <td>13</td>\n",
       "      <td>14</td>\n",
       "      <td>15</td>\n",
       "      <td>16</td>\n",
       "    </tr>\n",
       "  </tbody>\n",
       "</table>\n",
       "</div>"
      ],
      "text/plain": [
       "   Column1  Column2  Column3  Column4\n",
       "0        1        2        3        4\n",
       "1        5        6        7        8\n",
       "2        9       10       11       12\n",
       "3       13       14       15       16"
      ]
     },
     "execution_count": 6,
     "metadata": {},
     "output_type": "execute_result"
    }
   ],
   "source": [
    "a = [[1,2,3,4], [5,6,7,8], [9,10,11,12] , [13,14,15,16]]\n",
    "pd.DataFrame(a, columns=[\"Column1\", \"Column2\", \"Column3\", \"Column4\"])"
   ]
  },
  {
   "cell_type": "markdown",
   "metadata": {},
   "source": [
    "### But how we rearly start with an empty table, so lets load one"
   ]
  },
  {
   "cell_type": "code",
   "execution_count": 8,
   "metadata": {},
   "outputs": [
    {
     "data": {
      "text/html": [
       "<div>\n",
       "<table border=\"1\" class=\"dataframe\">\n",
       "  <thead>\n",
       "    <tr style=\"text-align: right;\">\n",
       "      <th></th>\n",
       "      <th>Zeitstempel</th>\n",
       "      <th>Name</th>\n",
       "      <th>Are you interested in taking part in a python course?</th>\n",
       "      <th>Why are you interested in python?</th>\n",
       "      <th>Did you use python before?</th>\n",
       "      <th>If yes, what did you use python for?</th>\n",
       "      <th>Did you use iPython/Jupyter Notebook?</th>\n",
       "      <th>What are your main interests?</th>\n",
       "      <th>Any other topics within python which you would like me to tackle beyond the topics above?</th>\n",
       "    </tr>\n",
       "  </thead>\n",
       "  <tbody>\n",
       "    <tr>\n",
       "      <th>0</th>\n",
       "      <td>2017/03/24 12:45:49 nachm. OEZ</td>\n",
       "      <td>Hans</td>\n",
       "      <td>Yes</td>\n",
       "      <td>Training GANs to take over the world.</td>\n",
       "      <td>Yes</td>\n",
       "      <td>Nothing useful.</td>\n",
       "      <td>Yes</td>\n",
       "      <td>Machine Learing</td>\n",
       "      <td>NumPy, Tensorflow, Processing my data in pytho...</td>\n",
       "    </tr>\n",
       "    <tr>\n",
       "      <th>1</th>\n",
       "      <td>2017/03/24 12:49:26 nachm. OEZ</td>\n",
       "      <td>John</td>\n",
       "      <td>Yes</td>\n",
       "      <td>To do cool stuff (data analysis)</td>\n",
       "      <td>Yes</td>\n",
       "      <td>some machine learning</td>\n",
       "      <td>Yes</td>\n",
       "      <td>Processing my data in python in order tro get ...</td>\n",
       "      <td>NaN</td>\n",
       "    </tr>\n",
       "    <tr>\n",
       "      <th>2</th>\n",
       "      <td>2017/03/24 1:03:40 nachm. OEZ</td>\n",
       "      <td>Jonas</td>\n",
       "      <td>Yes</td>\n",
       "      <td>Because</td>\n",
       "      <td>Yes</td>\n",
       "      <td>ML</td>\n",
       "      <td>Yes</td>\n",
       "      <td>Setting up python;Basic understanding of pytho...</td>\n",
       "      <td>NaN</td>\n",
       "    </tr>\n",
       "    <tr>\n",
       "      <th>3</th>\n",
       "      <td>2017/03/24 1:05:35 nachm. OEZ</td>\n",
       "      <td>Tim</td>\n",
       "      <td>Yes</td>\n",
       "      <td>NaN</td>\n",
       "      <td>No</td>\n",
       "      <td>I just used my python before</td>\n",
       "      <td>No</td>\n",
       "      <td>Setting up python;Basic understanding of pytho...</td>\n",
       "      <td>NaN</td>\n",
       "    </tr>\n",
       "    <tr>\n",
       "      <th>4</th>\n",
       "      <td>2017/03/24 1:09:57 nachm. OEZ</td>\n",
       "      <td>Frank</td>\n",
       "      <td>Yes</td>\n",
       "      <td>It's a Monty Python reference.</td>\n",
       "      <td>Yes</td>\n",
       "      <td>Stuff</td>\n",
       "      <td>Yes</td>\n",
       "      <td>Generating nice figures in python for my paper...</td>\n",
       "      <td>What is the sense of it all?</td>\n",
       "    </tr>\n",
       "    <tr>\n",
       "      <th>5</th>\n",
       "      <td>2017/03/24 1:13:17 nachm. OEZ</td>\n",
       "      <td>Roman</td>\n",
       "      <td>Yes</td>\n",
       "      <td>Because Sven says it is awesome and I should l...</td>\n",
       "      <td>Yes</td>\n",
       "      <td>RPi scripts, generating audio stuff</td>\n",
       "      <td>Yes</td>\n",
       "      <td>Processing my data in python in order tro get ...</td>\n",
       "      <td>NaN</td>\n",
       "    </tr>\n",
       "    <tr>\n",
       "      <th>6</th>\n",
       "      <td>2017/03/24 1:43:49 nachm. OEZ</td>\n",
       "      <td>Michael</td>\n",
       "      <td>Yes</td>\n",
       "      <td>NaN</td>\n",
       "      <td>No</td>\n",
       "      <td>NaN</td>\n",
       "      <td>No</td>\n",
       "      <td>Basic understanding of python;Processing my da...</td>\n",
       "      <td>NaN</td>\n",
       "    </tr>\n",
       "    <tr>\n",
       "      <th>7</th>\n",
       "      <td>2017/03/24 2:15:46 nachm. OEZ</td>\n",
       "      <td>Hannes</td>\n",
       "      <td>Yes</td>\n",
       "      <td>it's nice</td>\n",
       "      <td>Yes</td>\n",
       "      <td>data and stuff</td>\n",
       "      <td>Yes</td>\n",
       "      <td>Running stats in python;Generating nice figure...</td>\n",
       "      <td>a list of useful packages and how to use them ...</td>\n",
       "    </tr>\n",
       "    <tr>\n",
       "      <th>8</th>\n",
       "      <td>2017/03/24 4:50:34 nachm. OEZ</td>\n",
       "      <td>Obama</td>\n",
       "      <td>Yes</td>\n",
       "      <td>use as teaching language</td>\n",
       "      <td>Yes</td>\n",
       "      <td>raspberry pi IO programming</td>\n",
       "      <td>No</td>\n",
       "      <td>Setting up python;Basic understanding of pytho...</td>\n",
       "      <td>NaN</td>\n",
       "    </tr>\n",
       "    <tr>\n",
       "      <th>9</th>\n",
       "      <td>2017/03/27 9:02:45 vorm. OEZ</td>\n",
       "      <td>Manuel</td>\n",
       "      <td>Yes</td>\n",
       "      <td>A lot of good libraries for data analysis, pro...</td>\n",
       "      <td>Yes</td>\n",
       "      <td>Machine learning, data analysis, prototyping, ...</td>\n",
       "      <td>Yes</td>\n",
       "      <td>Processing my data in python in order tro get ...</td>\n",
       "      <td>NaN</td>\n",
       "    </tr>\n",
       "    <tr>\n",
       "      <th>10</th>\n",
       "      <td>2017/03/28 11:25:44 vorm. OEZ</td>\n",
       "      <td>Richard</td>\n",
       "      <td>Yes</td>\n",
       "      <td>NaN</td>\n",
       "      <td>No</td>\n",
       "      <td>NaN</td>\n",
       "      <td>No</td>\n",
       "      <td>Machine Learing</td>\n",
       "      <td>Why Machine Learning?</td>\n",
       "    </tr>\n",
       "  </tbody>\n",
       "</table>\n",
       "</div>"
      ],
      "text/plain": [
       "                       Zeitstempel     Name  \\\n",
       "0   2017/03/24 12:45:49 nachm. OEZ     Hans   \n",
       "1   2017/03/24 12:49:26 nachm. OEZ     John   \n",
       "2    2017/03/24 1:03:40 nachm. OEZ    Jonas   \n",
       "3    2017/03/24 1:05:35 nachm. OEZ      Tim   \n",
       "4    2017/03/24 1:09:57 nachm. OEZ    Frank   \n",
       "5    2017/03/24 1:13:17 nachm. OEZ    Roman   \n",
       "6    2017/03/24 1:43:49 nachm. OEZ  Michael   \n",
       "7    2017/03/24 2:15:46 nachm. OEZ   Hannes   \n",
       "8    2017/03/24 4:50:34 nachm. OEZ    Obama   \n",
       "9     2017/03/27 9:02:45 vorm. OEZ   Manuel   \n",
       "10   2017/03/28 11:25:44 vorm. OEZ  Richard   \n",
       "\n",
       "   Are you interested in taking part in a python course?  \\\n",
       "0                                                 Yes      \n",
       "1                                                 Yes      \n",
       "2                                                 Yes      \n",
       "3                                                 Yes      \n",
       "4                                                 Yes      \n",
       "5                                                 Yes      \n",
       "6                                                 Yes      \n",
       "7                                                 Yes      \n",
       "8                                                 Yes      \n",
       "9                                                 Yes      \n",
       "10                                                Yes      \n",
       "\n",
       "                    Why are you interested in python?  \\\n",
       "0               Training GANs to take over the world.   \n",
       "1                    To do cool stuff (data analysis)   \n",
       "2                                             Because   \n",
       "3                                                 NaN   \n",
       "4                      It's a Monty Python reference.   \n",
       "5   Because Sven says it is awesome and I should l...   \n",
       "6                                                 NaN   \n",
       "7                                           it's nice   \n",
       "8                            use as teaching language   \n",
       "9   A lot of good libraries for data analysis, pro...   \n",
       "10                                                NaN   \n",
       "\n",
       "   Did you use python before?  \\\n",
       "0                         Yes   \n",
       "1                         Yes   \n",
       "2                         Yes   \n",
       "3                          No   \n",
       "4                         Yes   \n",
       "5                         Yes   \n",
       "6                          No   \n",
       "7                         Yes   \n",
       "8                         Yes   \n",
       "9                         Yes   \n",
       "10                         No   \n",
       "\n",
       "                 If yes, what did you use python for?  \\\n",
       "0                                     Nothing useful.   \n",
       "1                               some machine learning   \n",
       "2                                                  ML   \n",
       "3                        I just used my python before   \n",
       "4                                               Stuff   \n",
       "5                 RPi scripts, generating audio stuff   \n",
       "6                                                 NaN   \n",
       "7                                      data and stuff   \n",
       "8                         raspberry pi IO programming   \n",
       "9   Machine learning, data analysis, prototyping, ...   \n",
       "10                                                NaN   \n",
       "\n",
       "   Did you use iPython/Jupyter Notebook?  \\\n",
       "0                                    Yes   \n",
       "1                                    Yes   \n",
       "2                                    Yes   \n",
       "3                                     No   \n",
       "4                                    Yes   \n",
       "5                                    Yes   \n",
       "6                                     No   \n",
       "7                                    Yes   \n",
       "8                                     No   \n",
       "9                                    Yes   \n",
       "10                                    No   \n",
       "\n",
       "                        What are your main interests?  \\\n",
       "0                                     Machine Learing   \n",
       "1   Processing my data in python in order tro get ...   \n",
       "2   Setting up python;Basic understanding of pytho...   \n",
       "3   Setting up python;Basic understanding of pytho...   \n",
       "4   Generating nice figures in python for my paper...   \n",
       "5   Processing my data in python in order tro get ...   \n",
       "6   Basic understanding of python;Processing my da...   \n",
       "7   Running stats in python;Generating nice figure...   \n",
       "8   Setting up python;Basic understanding of pytho...   \n",
       "9   Processing my data in python in order tro get ...   \n",
       "10                                    Machine Learing   \n",
       "\n",
       "   Any other topics within python which you would like me to tackle beyond the topics above?  \n",
       "0   NumPy, Tensorflow, Processing my data in pytho...                                         \n",
       "1                                                 NaN                                         \n",
       "2                                                 NaN                                         \n",
       "3                                                 NaN                                         \n",
       "4                        What is the sense of it all?                                         \n",
       "5                                                 NaN                                         \n",
       "6                                                 NaN                                         \n",
       "7   a list of useful packages and how to use them ...                                         \n",
       "8                                                 NaN                                         \n",
       "9                                                 NaN                                         \n",
       "10                             Why Machine Learning?                                          "
      ]
     },
     "execution_count": 8,
     "metadata": {},
     "output_type": "execute_result"
    }
   ],
   "source": [
    "df = pd.read_csv(\"./dataset_1/data.csv\")\n",
    "df"
   ]
  },
  {
   "cell_type": "code",
   "execution_count": 9,
   "metadata": {},
   "outputs": [
    {
     "data": {
      "text/html": [
       "<div>\n",
       "<table border=\"1\" class=\"dataframe\">\n",
       "  <thead>\n",
       "    <tr style=\"text-align: right;\">\n",
       "      <th></th>\n",
       "      <th>Zeitstempel</th>\n",
       "      <th>Name</th>\n",
       "      <th>Are you interested in taking part in a python course?</th>\n",
       "      <th>Why are you interested in python?</th>\n",
       "      <th>Did you use python before?</th>\n",
       "      <th>If yes, what did you use python for?</th>\n",
       "      <th>Did you use iPython/Jupyter Notebook?</th>\n",
       "      <th>What are your main interests?</th>\n",
       "      <th>Any other topics within python which you would like me to tackle beyond the topics above?</th>\n",
       "    </tr>\n",
       "  </thead>\n",
       "  <tbody>\n",
       "    <tr>\n",
       "      <th>0</th>\n",
       "      <td>2017/03/24 12:45:49 nachm. OEZ</td>\n",
       "      <td>Hans</td>\n",
       "      <td>Yes</td>\n",
       "      <td>Training GANs to take over the world.</td>\n",
       "      <td>Yes</td>\n",
       "      <td>Nothing useful.</td>\n",
       "      <td>Yes</td>\n",
       "      <td>Machine Learing</td>\n",
       "      <td>NumPy, Tensorflow, Processing my data in pytho...</td>\n",
       "    </tr>\n",
       "    <tr>\n",
       "      <th>1</th>\n",
       "      <td>2017/03/24 12:49:26 nachm. OEZ</td>\n",
       "      <td>John</td>\n",
       "      <td>Yes</td>\n",
       "      <td>To do cool stuff (data analysis)</td>\n",
       "      <td>Yes</td>\n",
       "      <td>some machine learning</td>\n",
       "      <td>Yes</td>\n",
       "      <td>Processing my data in python in order tro get ...</td>\n",
       "      <td>NaN</td>\n",
       "    </tr>\n",
       "    <tr>\n",
       "      <th>2</th>\n",
       "      <td>2017/03/24 1:03:40 nachm. OEZ</td>\n",
       "      <td>Jonas</td>\n",
       "      <td>Yes</td>\n",
       "      <td>Because</td>\n",
       "      <td>Yes</td>\n",
       "      <td>ML</td>\n",
       "      <td>Yes</td>\n",
       "      <td>Setting up python;Basic understanding of pytho...</td>\n",
       "      <td>NaN</td>\n",
       "    </tr>\n",
       "    <tr>\n",
       "      <th>3</th>\n",
       "      <td>2017/03/24 1:05:35 nachm. OEZ</td>\n",
       "      <td>Tim</td>\n",
       "      <td>Yes</td>\n",
       "      <td>NaN</td>\n",
       "      <td>No</td>\n",
       "      <td>I just used my python before</td>\n",
       "      <td>No</td>\n",
       "      <td>Setting up python;Basic understanding of pytho...</td>\n",
       "      <td>NaN</td>\n",
       "    </tr>\n",
       "    <tr>\n",
       "      <th>4</th>\n",
       "      <td>2017/03/24 1:09:57 nachm. OEZ</td>\n",
       "      <td>Frank</td>\n",
       "      <td>Yes</td>\n",
       "      <td>It's a Monty Python reference.</td>\n",
       "      <td>Yes</td>\n",
       "      <td>Stuff</td>\n",
       "      <td>Yes</td>\n",
       "      <td>Generating nice figures in python for my paper...</td>\n",
       "      <td>What is the sense of it all?</td>\n",
       "    </tr>\n",
       "  </tbody>\n",
       "</table>\n",
       "</div>"
      ],
      "text/plain": [
       "                      Zeitstempel   Name  \\\n",
       "0  2017/03/24 12:45:49 nachm. OEZ   Hans   \n",
       "1  2017/03/24 12:49:26 nachm. OEZ   John   \n",
       "2   2017/03/24 1:03:40 nachm. OEZ  Jonas   \n",
       "3   2017/03/24 1:05:35 nachm. OEZ    Tim   \n",
       "4   2017/03/24 1:09:57 nachm. OEZ  Frank   \n",
       "\n",
       "  Are you interested in taking part in a python course?  \\\n",
       "0                                                Yes      \n",
       "1                                                Yes      \n",
       "2                                                Yes      \n",
       "3                                                Yes      \n",
       "4                                                Yes      \n",
       "\n",
       "       Why are you interested in python? Did you use python before?  \\\n",
       "0  Training GANs to take over the world.                        Yes   \n",
       "1       To do cool stuff (data analysis)                        Yes   \n",
       "2                                Because                        Yes   \n",
       "3                                    NaN                         No   \n",
       "4         It's a Monty Python reference.                        Yes   \n",
       "\n",
       "  If yes, what did you use python for? Did you use iPython/Jupyter Notebook?  \\\n",
       "0                      Nothing useful.                                   Yes   \n",
       "1                some machine learning                                   Yes   \n",
       "2                                   ML                                   Yes   \n",
       "3         I just used my python before                                    No   \n",
       "4                                Stuff                                   Yes   \n",
       "\n",
       "                       What are your main interests?  \\\n",
       "0                                    Machine Learing   \n",
       "1  Processing my data in python in order tro get ...   \n",
       "2  Setting up python;Basic understanding of pytho...   \n",
       "3  Setting up python;Basic understanding of pytho...   \n",
       "4  Generating nice figures in python for my paper...   \n",
       "\n",
       "  Any other topics within python which you would like me to tackle beyond the topics above?  \n",
       "0  NumPy, Tensorflow, Processing my data in pytho...                                         \n",
       "1                                                NaN                                         \n",
       "2                                                NaN                                         \n",
       "3                                                NaN                                         \n",
       "4                       What is the sense of it all?                                         "
      ]
     },
     "execution_count": 9,
     "metadata": {},
     "output_type": "execute_result"
    }
   ],
   "source": [
    "df.head()"
   ]
  },
  {
   "cell_type": "code",
   "execution_count": 10,
   "metadata": {},
   "outputs": [
    {
     "data": {
      "text/html": [
       "<div>\n",
       "<table border=\"1\" class=\"dataframe\">\n",
       "  <thead>\n",
       "    <tr style=\"text-align: right;\">\n",
       "      <th></th>\n",
       "      <th>Zeitstempel</th>\n",
       "      <th>Name</th>\n",
       "      <th>Are you interested in taking part in a python course?</th>\n",
       "      <th>Why are you interested in python?</th>\n",
       "      <th>Did you use python before?</th>\n",
       "      <th>If yes, what did you use python for?</th>\n",
       "      <th>Did you use iPython/Jupyter Notebook?</th>\n",
       "      <th>What are your main interests?</th>\n",
       "      <th>Any other topics within python which you would like me to tackle beyond the topics above?</th>\n",
       "    </tr>\n",
       "  </thead>\n",
       "  <tbody>\n",
       "    <tr>\n",
       "      <th>0</th>\n",
       "      <td>2017/03/24 12:45:49 nachm. OEZ</td>\n",
       "      <td>Hans</td>\n",
       "      <td>Yes</td>\n",
       "      <td>Training GANs to take over the world.</td>\n",
       "      <td>Yes</td>\n",
       "      <td>Nothing useful.</td>\n",
       "      <td>Yes</td>\n",
       "      <td>Machine Learing</td>\n",
       "      <td>NumPy, Tensorflow, Processing my data in pytho...</td>\n",
       "    </tr>\n",
       "    <tr>\n",
       "      <th>1</th>\n",
       "      <td>2017/03/24 12:49:26 nachm. OEZ</td>\n",
       "      <td>John</td>\n",
       "      <td>Yes</td>\n",
       "      <td>To do cool stuff (data analysis)</td>\n",
       "      <td>Yes</td>\n",
       "      <td>some machine learning</td>\n",
       "      <td>Yes</td>\n",
       "      <td>Processing my data in python in order tro get ...</td>\n",
       "      <td>NaN</td>\n",
       "    </tr>\n",
       "  </tbody>\n",
       "</table>\n",
       "</div>"
      ],
      "text/plain": [
       "                      Zeitstempel  Name  \\\n",
       "0  2017/03/24 12:45:49 nachm. OEZ  Hans   \n",
       "1  2017/03/24 12:49:26 nachm. OEZ  John   \n",
       "\n",
       "  Are you interested in taking part in a python course?  \\\n",
       "0                                                Yes      \n",
       "1                                                Yes      \n",
       "\n",
       "       Why are you interested in python? Did you use python before?  \\\n",
       "0  Training GANs to take over the world.                        Yes   \n",
       "1       To do cool stuff (data analysis)                        Yes   \n",
       "\n",
       "  If yes, what did you use python for? Did you use iPython/Jupyter Notebook?  \\\n",
       "0                      Nothing useful.                                   Yes   \n",
       "1                some machine learning                                   Yes   \n",
       "\n",
       "                       What are your main interests?  \\\n",
       "0                                    Machine Learing   \n",
       "1  Processing my data in python in order tro get ...   \n",
       "\n",
       "  Any other topics within python which you would like me to tackle beyond the topics above?  \n",
       "0  NumPy, Tensorflow, Processing my data in pytho...                                         \n",
       "1                                                NaN                                         "
      ]
     },
     "execution_count": 10,
     "metadata": {},
     "output_type": "execute_result"
    }
   ],
   "source": [
    "df.head(2)"
   ]
  },
  {
   "cell_type": "code",
   "execution_count": 11,
   "metadata": {},
   "outputs": [
    {
     "data": {
      "text/plain": [
       "11"
      ]
     },
     "execution_count": 11,
     "metadata": {},
     "output_type": "execute_result"
    }
   ],
   "source": [
    "# So how many data samples did we have, after we cant see a thing?\n",
    "len(df)"
   ]
  },
  {
   "cell_type": "code",
   "execution_count": 12,
   "metadata": {},
   "outputs": [
    {
     "data": {
      "text/plain": [
       "(11, 9)"
      ]
     },
     "execution_count": 12,
     "metadata": {},
     "output_type": "execute_result"
    }
   ],
   "source": [
    "df.shape # row count / column count"
   ]
  },
  {
   "cell_type": "markdown",
   "metadata": {},
   "source": [
    "# Selection"
   ]
  },
  {
   "cell_type": "code",
   "execution_count": 13,
   "metadata": {},
   "outputs": [
    {
     "data": {
      "text/plain": [
       "0        Hans\n",
       "1        John\n",
       "2       Jonas\n",
       "3         Tim\n",
       "4       Frank\n",
       "5       Roman\n",
       "6     Michael\n",
       "7      Hannes\n",
       "8       Obama\n",
       "9      Manuel\n",
       "10    Richard\n",
       "Name: Name, dtype: object"
      ]
     },
     "execution_count": 13,
     "metadata": {},
     "output_type": "execute_result"
    }
   ],
   "source": [
    "df[\"Name\"]"
   ]
  },
  {
   "cell_type": "code",
   "execution_count": 14,
   "metadata": {},
   "outputs": [
    {
     "data": {
      "text/plain": [
       "0        Hans\n",
       "1        John\n",
       "2       Jonas\n",
       "3         Tim\n",
       "4       Frank\n",
       "5       Roman\n",
       "6     Michael\n",
       "7      Hannes\n",
       "8       Obama\n",
       "9      Manuel\n",
       "10    Richard\n",
       "Name: Name, dtype: object"
      ]
     },
     "execution_count": 14,
     "metadata": {},
     "output_type": "execute_result"
    }
   ],
   "source": [
    "df.Name # This works when the column name has no space and dose not overlap with a Pandas internal function\n",
    "        # Thats what I try to have all columnames starting with a capital letter"
   ]
  },
  {
   "cell_type": "code",
   "execution_count": 15,
   "metadata": {},
   "outputs": [
    {
     "data": {
      "text/plain": [
       "0     Yes\n",
       "1     Yes\n",
       "2     Yes\n",
       "3      No\n",
       "4     Yes\n",
       "5     Yes\n",
       "6      No\n",
       "7     Yes\n",
       "8     Yes\n",
       "9     Yes\n",
       "10     No\n",
       "Name: Did you use python before?, dtype: object"
      ]
     },
     "execution_count": 15,
     "metadata": {},
     "output_type": "execute_result"
    }
   ],
   "source": [
    "df[\"Did you use python before?\"]"
   ]
  },
  {
   "cell_type": "code",
   "execution_count": 16,
   "metadata": {},
   "outputs": [
    {
     "data": {
      "text/plain": [
       "['Zeitstempel',\n",
       " 'Name',\n",
       " 'Are you interested in taking part in a python course?',\n",
       " 'Why are you interested in python?',\n",
       " 'Did you use python before?',\n",
       " 'If yes, what did you use python for?',\n",
       " 'Did you use iPython/Jupyter Notebook?',\n",
       " 'What are your main interests?',\n",
       " 'Any other topics within python which you would like me to tackle beyond the topics above?']"
      ]
     },
     "execution_count": 16,
     "metadata": {},
     "output_type": "execute_result"
    }
   ],
   "source": [
    "c = df.columns\n",
    "c = c.tolist()\n",
    "c"
   ]
  },
  {
   "cell_type": "code",
   "execution_count": 17,
   "metadata": {
    "collapsed": true
   },
   "outputs": [],
   "source": [
    "c[2] = \"Interested\"\n",
    "c[3] = \"Why\"\n",
    "c[4] = \"Used\"\n",
    "c[5] = \"For\"\n",
    "c[6] = \"UsedJupyter\"\n",
    "c[7] = \"Topics\"\n",
    "c[8] = \"TopicsOther\""
   ]
  },
  {
   "cell_type": "code",
   "execution_count": 18,
   "metadata": {
    "collapsed": true
   },
   "outputs": [],
   "source": [
    "df.columns = c"
   ]
  },
  {
   "cell_type": "code",
   "execution_count": 19,
   "metadata": {},
   "outputs": [
    {
     "data": {
      "text/html": [
       "<div>\n",
       "<table border=\"1\" class=\"dataframe\">\n",
       "  <thead>\n",
       "    <tr style=\"text-align: right;\">\n",
       "      <th></th>\n",
       "      <th>Zeitstempel</th>\n",
       "      <th>Name</th>\n",
       "      <th>Interested</th>\n",
       "      <th>Why</th>\n",
       "      <th>Used</th>\n",
       "      <th>For</th>\n",
       "      <th>UsedJupyter</th>\n",
       "      <th>Topics</th>\n",
       "      <th>TopicsOther</th>\n",
       "    </tr>\n",
       "  </thead>\n",
       "  <tbody>\n",
       "    <tr>\n",
       "      <th>0</th>\n",
       "      <td>2017/03/24 12:45:49 nachm. OEZ</td>\n",
       "      <td>Hans</td>\n",
       "      <td>Yes</td>\n",
       "      <td>Training GANs to take over the world.</td>\n",
       "      <td>Yes</td>\n",
       "      <td>Nothing useful.</td>\n",
       "      <td>Yes</td>\n",
       "      <td>Machine Learing</td>\n",
       "      <td>NumPy, Tensorflow, Processing my data in pytho...</td>\n",
       "    </tr>\n",
       "    <tr>\n",
       "      <th>1</th>\n",
       "      <td>2017/03/24 12:49:26 nachm. OEZ</td>\n",
       "      <td>John</td>\n",
       "      <td>Yes</td>\n",
       "      <td>To do cool stuff (data analysis)</td>\n",
       "      <td>Yes</td>\n",
       "      <td>some machine learning</td>\n",
       "      <td>Yes</td>\n",
       "      <td>Processing my data in python in order tro get ...</td>\n",
       "      <td>NaN</td>\n",
       "    </tr>\n",
       "  </tbody>\n",
       "</table>\n",
       "</div>"
      ],
      "text/plain": [
       "                      Zeitstempel  Name Interested  \\\n",
       "0  2017/03/24 12:45:49 nachm. OEZ  Hans        Yes   \n",
       "1  2017/03/24 12:49:26 nachm. OEZ  John        Yes   \n",
       "\n",
       "                                     Why Used                    For  \\\n",
       "0  Training GANs to take over the world.  Yes        Nothing useful.   \n",
       "1       To do cool stuff (data analysis)  Yes  some machine learning   \n",
       "\n",
       "  UsedJupyter                                             Topics  \\\n",
       "0         Yes                                    Machine Learing   \n",
       "1         Yes  Processing my data in python in order tro get ...   \n",
       "\n",
       "                                         TopicsOther  \n",
       "0  NumPy, Tensorflow, Processing my data in pytho...  \n",
       "1                                                NaN  "
      ]
     },
     "execution_count": 19,
     "metadata": {},
     "output_type": "execute_result"
    }
   ],
   "source": [
    "df.head(2)"
   ]
  },
  {
   "cell_type": "code",
   "execution_count": 20,
   "metadata": {},
   "outputs": [
    {
     "data": {
      "text/plain": [
       "0     Yes\n",
       "1     Yes\n",
       "2     Yes\n",
       "3      No\n",
       "4     Yes\n",
       "5     Yes\n",
       "6      No\n",
       "7     Yes\n",
       "8     Yes\n",
       "9     Yes\n",
       "10     No\n",
       "Name: Used, dtype: object"
      ]
     },
     "execution_count": 20,
     "metadata": {},
     "output_type": "execute_result"
    }
   ],
   "source": [
    "df.Used"
   ]
  },
  {
   "cell_type": "markdown",
   "metadata": {},
   "source": [
    "# Lets Add some Knowledge vales"
   ]
  },
  {
   "cell_type": "code",
   "execution_count": 21,
   "metadata": {},
   "outputs": [
    {
     "data": {
      "text/html": [
       "<div>\n",
       "<table border=\"1\" class=\"dataframe\">\n",
       "  <thead>\n",
       "    <tr style=\"text-align: right;\">\n",
       "      <th></th>\n",
       "      <th>Zeitstempel</th>\n",
       "      <th>Name</th>\n",
       "      <th>Interested</th>\n",
       "      <th>Why</th>\n",
       "      <th>Used</th>\n",
       "      <th>For</th>\n",
       "      <th>UsedJupyter</th>\n",
       "      <th>Topics</th>\n",
       "      <th>TopicsOther</th>\n",
       "      <th>Knowledge</th>\n",
       "    </tr>\n",
       "  </thead>\n",
       "  <tbody>\n",
       "    <tr>\n",
       "      <th>0</th>\n",
       "      <td>2017/03/24 12:45:49 nachm. OEZ</td>\n",
       "      <td>Hans</td>\n",
       "      <td>Yes</td>\n",
       "      <td>Training GANs to take over the world.</td>\n",
       "      <td>Yes</td>\n",
       "      <td>Nothing useful.</td>\n",
       "      <td>Yes</td>\n",
       "      <td>Machine Learing</td>\n",
       "      <td>NumPy, Tensorflow, Processing my data in pytho...</td>\n",
       "      <td>1</td>\n",
       "    </tr>\n",
       "    <tr>\n",
       "      <th>1</th>\n",
       "      <td>2017/03/24 12:49:26 nachm. OEZ</td>\n",
       "      <td>John</td>\n",
       "      <td>Yes</td>\n",
       "      <td>To do cool stuff (data analysis)</td>\n",
       "      <td>Yes</td>\n",
       "      <td>some machine learning</td>\n",
       "      <td>Yes</td>\n",
       "      <td>Processing my data in python in order tro get ...</td>\n",
       "      <td>NaN</td>\n",
       "      <td>4</td>\n",
       "    </tr>\n",
       "    <tr>\n",
       "      <th>2</th>\n",
       "      <td>2017/03/24 1:03:40 nachm. OEZ</td>\n",
       "      <td>Jonas</td>\n",
       "      <td>Yes</td>\n",
       "      <td>Because</td>\n",
       "      <td>Yes</td>\n",
       "      <td>ML</td>\n",
       "      <td>Yes</td>\n",
       "      <td>Setting up python;Basic understanding of pytho...</td>\n",
       "      <td>NaN</td>\n",
       "      <td>5</td>\n",
       "    </tr>\n",
       "    <tr>\n",
       "      <th>3</th>\n",
       "      <td>2017/03/24 1:05:35 nachm. OEZ</td>\n",
       "      <td>Tim</td>\n",
       "      <td>Yes</td>\n",
       "      <td>NaN</td>\n",
       "      <td>No</td>\n",
       "      <td>I just used my python before</td>\n",
       "      <td>No</td>\n",
       "      <td>Setting up python;Basic understanding of pytho...</td>\n",
       "      <td>NaN</td>\n",
       "      <td>3</td>\n",
       "    </tr>\n",
       "    <tr>\n",
       "      <th>4</th>\n",
       "      <td>2017/03/24 1:09:57 nachm. OEZ</td>\n",
       "      <td>Frank</td>\n",
       "      <td>Yes</td>\n",
       "      <td>It's a Monty Python reference.</td>\n",
       "      <td>Yes</td>\n",
       "      <td>Stuff</td>\n",
       "      <td>Yes</td>\n",
       "      <td>Generating nice figures in python for my paper...</td>\n",
       "      <td>What is the sense of it all?</td>\n",
       "      <td>2</td>\n",
       "    </tr>\n",
       "  </tbody>\n",
       "</table>\n",
       "</div>"
      ],
      "text/plain": [
       "                      Zeitstempel   Name Interested  \\\n",
       "0  2017/03/24 12:45:49 nachm. OEZ   Hans        Yes   \n",
       "1  2017/03/24 12:49:26 nachm. OEZ   John        Yes   \n",
       "2   2017/03/24 1:03:40 nachm. OEZ  Jonas        Yes   \n",
       "3   2017/03/24 1:05:35 nachm. OEZ    Tim        Yes   \n",
       "4   2017/03/24 1:09:57 nachm. OEZ  Frank        Yes   \n",
       "\n",
       "                                     Why Used                           For  \\\n",
       "0  Training GANs to take over the world.  Yes               Nothing useful.   \n",
       "1       To do cool stuff (data analysis)  Yes         some machine learning   \n",
       "2                                Because  Yes                            ML   \n",
       "3                                    NaN   No  I just used my python before   \n",
       "4         It's a Monty Python reference.  Yes                         Stuff   \n",
       "\n",
       "  UsedJupyter                                             Topics  \\\n",
       "0         Yes                                    Machine Learing   \n",
       "1         Yes  Processing my data in python in order tro get ...   \n",
       "2         Yes  Setting up python;Basic understanding of pytho...   \n",
       "3          No  Setting up python;Basic understanding of pytho...   \n",
       "4         Yes  Generating nice figures in python for my paper...   \n",
       "\n",
       "                                         TopicsOther  Knowledge  \n",
       "0  NumPy, Tensorflow, Processing my data in pytho...          1  \n",
       "1                                                NaN          4  \n",
       "2                                                NaN          5  \n",
       "3                                                NaN          3  \n",
       "4                       What is the sense of it all?          2  "
      ]
     },
     "execution_count": 21,
     "metadata": {},
     "output_type": "execute_result"
    }
   ],
   "source": [
    "df[\"Knowledge\"] = [1, 4, 5, 3, 2, 1, 5, 3, 2, 1, 5]\n",
    "df.head()"
   ]
  },
  {
   "cell_type": "code",
   "execution_count": 22,
   "metadata": {},
   "outputs": [
    {
     "data": {
      "text/html": [
       "<div>\n",
       "<table border=\"1\" class=\"dataframe\">\n",
       "  <thead>\n",
       "    <tr style=\"text-align: right;\">\n",
       "      <th></th>\n",
       "      <th>Knowledge</th>\n",
       "    </tr>\n",
       "  </thead>\n",
       "  <tbody>\n",
       "    <tr>\n",
       "      <th>count</th>\n",
       "      <td>11.000000</td>\n",
       "    </tr>\n",
       "    <tr>\n",
       "      <th>mean</th>\n",
       "      <td>2.909091</td>\n",
       "    </tr>\n",
       "    <tr>\n",
       "      <th>std</th>\n",
       "      <td>1.640399</td>\n",
       "    </tr>\n",
       "    <tr>\n",
       "      <th>min</th>\n",
       "      <td>1.000000</td>\n",
       "    </tr>\n",
       "    <tr>\n",
       "      <th>25%</th>\n",
       "      <td>1.500000</td>\n",
       "    </tr>\n",
       "    <tr>\n",
       "      <th>50%</th>\n",
       "      <td>3.000000</td>\n",
       "    </tr>\n",
       "    <tr>\n",
       "      <th>75%</th>\n",
       "      <td>4.500000</td>\n",
       "    </tr>\n",
       "    <tr>\n",
       "      <th>max</th>\n",
       "      <td>5.000000</td>\n",
       "    </tr>\n",
       "  </tbody>\n",
       "</table>\n",
       "</div>"
      ],
      "text/plain": [
       "       Knowledge\n",
       "count  11.000000\n",
       "mean    2.909091\n",
       "std     1.640399\n",
       "min     1.000000\n",
       "25%     1.500000\n",
       "50%     3.000000\n",
       "75%     4.500000\n",
       "max     5.000000"
      ]
     },
     "execution_count": 22,
     "metadata": {},
     "output_type": "execute_result"
    }
   ],
   "source": [
    "df.describe()"
   ]
  },
  {
   "cell_type": "code",
   "execution_count": 23,
   "metadata": {},
   "outputs": [
    {
     "data": {
      "text/html": [
       "<div>\n",
       "<table border=\"1\" class=\"dataframe\">\n",
       "  <thead>\n",
       "    <tr style=\"text-align: right;\">\n",
       "      <th></th>\n",
       "      <th>Name</th>\n",
       "      <th>Knowledge</th>\n",
       "    </tr>\n",
       "  </thead>\n",
       "  <tbody>\n",
       "    <tr>\n",
       "      <th>0</th>\n",
       "      <td>Hans</td>\n",
       "      <td>1</td>\n",
       "    </tr>\n",
       "    <tr>\n",
       "      <th>1</th>\n",
       "      <td>John</td>\n",
       "      <td>4</td>\n",
       "    </tr>\n",
       "    <tr>\n",
       "      <th>2</th>\n",
       "      <td>Jonas</td>\n",
       "      <td>5</td>\n",
       "    </tr>\n",
       "    <tr>\n",
       "      <th>3</th>\n",
       "      <td>Tim</td>\n",
       "      <td>3</td>\n",
       "    </tr>\n",
       "    <tr>\n",
       "      <th>4</th>\n",
       "      <td>Frank</td>\n",
       "      <td>2</td>\n",
       "    </tr>\n",
       "    <tr>\n",
       "      <th>5</th>\n",
       "      <td>Roman</td>\n",
       "      <td>1</td>\n",
       "    </tr>\n",
       "    <tr>\n",
       "      <th>6</th>\n",
       "      <td>Michael</td>\n",
       "      <td>5</td>\n",
       "    </tr>\n",
       "    <tr>\n",
       "      <th>7</th>\n",
       "      <td>Hannes</td>\n",
       "      <td>3</td>\n",
       "    </tr>\n",
       "    <tr>\n",
       "      <th>8</th>\n",
       "      <td>Obama</td>\n",
       "      <td>2</td>\n",
       "    </tr>\n",
       "    <tr>\n",
       "      <th>9</th>\n",
       "      <td>Manuel</td>\n",
       "      <td>1</td>\n",
       "    </tr>\n",
       "    <tr>\n",
       "      <th>10</th>\n",
       "      <td>Richard</td>\n",
       "      <td>5</td>\n",
       "    </tr>\n",
       "  </tbody>\n",
       "</table>\n",
       "</div>"
      ],
      "text/plain": [
       "       Name  Knowledge\n",
       "0      Hans          1\n",
       "1      John          4\n",
       "2     Jonas          5\n",
       "3       Tim          3\n",
       "4     Frank          2\n",
       "5     Roman          1\n",
       "6   Michael          5\n",
       "7    Hannes          3\n",
       "8     Obama          2\n",
       "9    Manuel          1\n",
       "10  Richard          5"
      ]
     },
     "execution_count": 23,
     "metadata": {},
     "output_type": "execute_result"
    }
   ],
   "source": [
    "x = [\"Name\", \"Knowledge\"]\n",
    "df2 = df[x]\n",
    "df2"
   ]
  },
  {
   "cell_type": "code",
   "execution_count": 24,
   "metadata": {},
   "outputs": [
    {
     "data": {
      "text/html": [
       "<div>\n",
       "<table border=\"1\" class=\"dataframe\">\n",
       "  <thead>\n",
       "    <tr style=\"text-align: right;\">\n",
       "      <th></th>\n",
       "      <th>Name</th>\n",
       "      <th>Knowledge</th>\n",
       "    </tr>\n",
       "  </thead>\n",
       "  <tbody>\n",
       "    <tr>\n",
       "      <th>6</th>\n",
       "      <td>Michael</td>\n",
       "      <td>5</td>\n",
       "    </tr>\n",
       "    <tr>\n",
       "      <th>7</th>\n",
       "      <td>Hannes</td>\n",
       "      <td>3</td>\n",
       "    </tr>\n",
       "    <tr>\n",
       "      <th>8</th>\n",
       "      <td>Obama</td>\n",
       "      <td>2</td>\n",
       "    </tr>\n",
       "    <tr>\n",
       "      <th>9</th>\n",
       "      <td>Manuel</td>\n",
       "      <td>1</td>\n",
       "    </tr>\n",
       "    <tr>\n",
       "      <th>10</th>\n",
       "      <td>Richard</td>\n",
       "      <td>5</td>\n",
       "    </tr>\n",
       "  </tbody>\n",
       "</table>\n",
       "</div>"
      ],
      "text/plain": [
       "       Name  Knowledge\n",
       "6   Michael          5\n",
       "7    Hannes          3\n",
       "8     Obama          2\n",
       "9    Manuel          1\n",
       "10  Richard          5"
      ]
     },
     "execution_count": 24,
     "metadata": {},
     "output_type": "execute_result"
    }
   ],
   "source": [
    "df2 = df2.tail()\n",
    "df2"
   ]
  },
  {
   "cell_type": "code",
   "execution_count": 25,
   "metadata": {},
   "outputs": [
    {
     "data": {
      "text/plain": [
       "6     5\n",
       "7     3\n",
       "8     2\n",
       "9     1\n",
       "10    5\n",
       "Name: Knowledge, dtype: int64"
      ]
     },
     "execution_count": 25,
     "metadata": {},
     "output_type": "execute_result"
    }
   ],
   "source": [
    "df2.Knowledge"
   ]
  },
  {
   "cell_type": "code",
   "execution_count": 26,
   "metadata": {},
   "outputs": [
    {
     "data": {
      "text/plain": [
       "6     25\n",
       "7     15\n",
       "8     10\n",
       "9      5\n",
       "10    25\n",
       "Name: Knowledge, dtype: int64"
      ]
     },
     "execution_count": 26,
     "metadata": {},
     "output_type": "execute_result"
    }
   ],
   "source": [
    "df2.Knowledge * 5"
   ]
  },
  {
   "cell_type": "code",
   "execution_count": 27,
   "metadata": {},
   "outputs": [
    {
     "data": {
      "text/html": [
       "<div>\n",
       "<table border=\"1\" class=\"dataframe\">\n",
       "  <thead>\n",
       "    <tr style=\"text-align: right;\">\n",
       "      <th></th>\n",
       "      <th>Name</th>\n",
       "      <th>Knowledge</th>\n",
       "    </tr>\n",
       "  </thead>\n",
       "  <tbody>\n",
       "    <tr>\n",
       "      <th>6</th>\n",
       "      <td>Michael</td>\n",
       "      <td>5</td>\n",
       "    </tr>\n",
       "    <tr>\n",
       "      <th>7</th>\n",
       "      <td>Hannes</td>\n",
       "      <td>3</td>\n",
       "    </tr>\n",
       "    <tr>\n",
       "      <th>8</th>\n",
       "      <td>Obama</td>\n",
       "      <td>2</td>\n",
       "    </tr>\n",
       "    <tr>\n",
       "      <th>9</th>\n",
       "      <td>Manuel</td>\n",
       "      <td>1</td>\n",
       "    </tr>\n",
       "    <tr>\n",
       "      <th>10</th>\n",
       "      <td>Richard</td>\n",
       "      <td>5</td>\n",
       "    </tr>\n",
       "  </tbody>\n",
       "</table>\n",
       "</div>"
      ],
      "text/plain": [
       "       Name  Knowledge\n",
       "6   Michael          5\n",
       "7    Hannes          3\n",
       "8     Obama          2\n",
       "9    Manuel          1\n",
       "10  Richard          5"
      ]
     },
     "execution_count": 27,
     "metadata": {},
     "output_type": "execute_result"
    }
   ],
   "source": [
    "df2"
   ]
  },
  {
   "cell_type": "code",
   "execution_count": 28,
   "metadata": {},
   "outputs": [
    {
     "data": {
      "text/plain": [
       "6      True\n",
       "7     False\n",
       "8     False\n",
       "9     False\n",
       "10     True\n",
       "Name: Knowledge, dtype: bool"
      ]
     },
     "execution_count": 28,
     "metadata": {},
     "output_type": "execute_result"
    }
   ],
   "source": [
    "df2.Knowledge > 3"
   ]
  },
  {
   "cell_type": "code",
   "execution_count": 29,
   "metadata": {},
   "outputs": [
    {
     "data": {
      "text/html": [
       "<div>\n",
       "<table border=\"1\" class=\"dataframe\">\n",
       "  <thead>\n",
       "    <tr style=\"text-align: right;\">\n",
       "      <th></th>\n",
       "      <th>Name</th>\n",
       "      <th>Knowledge</th>\n",
       "    </tr>\n",
       "  </thead>\n",
       "  <tbody>\n",
       "    <tr>\n",
       "      <th>6</th>\n",
       "      <td>Michael</td>\n",
       "      <td>5</td>\n",
       "    </tr>\n",
       "    <tr>\n",
       "      <th>10</th>\n",
       "      <td>Richard</td>\n",
       "      <td>5</td>\n",
       "    </tr>\n",
       "  </tbody>\n",
       "</table>\n",
       "</div>"
      ],
      "text/plain": [
       "       Name  Knowledge\n",
       "6   Michael          5\n",
       "10  Richard          5"
      ]
     },
     "execution_count": 29,
     "metadata": {},
     "output_type": "execute_result"
    }
   ],
   "source": [
    "df2[df2.Knowledge > 3]"
   ]
  },
  {
   "cell_type": "code",
   "execution_count": 30,
   "metadata": {},
   "outputs": [
    {
     "ename": "ValueError",
     "evalue": "The truth value of a Series is ambiguous. Use a.empty, a.bool(), a.item(), a.any() or a.all().",
     "output_type": "error",
     "traceback": [
      "\u001b[0;31m---------------------------------------------------------------------------\u001b[0m",
      "\u001b[0;31mValueError\u001b[0m                                Traceback (most recent call last)",
      "\u001b[0;32m<ipython-input-30-b89be7139ccb>\u001b[0m in \u001b[0;36m<module>\u001b[0;34m()\u001b[0m\n\u001b[0;32m----> 1\u001b[0;31m \u001b[0mdf2\u001b[0m\u001b[0;34m[\u001b[0m\u001b[0mdf2\u001b[0m\u001b[0;34m.\u001b[0m\u001b[0mKnowledge\u001b[0m \u001b[0;34m>\u001b[0m \u001b[0;36m3\u001b[0m \u001b[0;32mor\u001b[0m \u001b[0mdf2\u001b[0m\u001b[0;34m.\u001b[0m\u001b[0mKnowledge\u001b[0m \u001b[0;34m<\u001b[0m \u001b[0;36m2\u001b[0m\u001b[0;34m]\u001b[0m \u001b[0;31m# Won't work. Why? \"or\" and \"and\" is a bitwise operater\u001b[0m\u001b[0;34m\u001b[0m\u001b[0m\n\u001b[0m",
      "\u001b[0;32m/usr/local/lib/python3.6/dist-packages/pandas/core/generic.py\u001b[0m in \u001b[0;36m__nonzero__\u001b[0;34m(self)\u001b[0m\n\u001b[1;32m    915\u001b[0m         raise ValueError(\"The truth value of a {0} is ambiguous. \"\n\u001b[1;32m    916\u001b[0m                          \u001b[0;34m\"Use a.empty, a.bool(), a.item(), a.any() or a.all().\"\u001b[0m\u001b[0;34m\u001b[0m\u001b[0m\n\u001b[0;32m--> 917\u001b[0;31m                          .format(self.__class__.__name__))\n\u001b[0m\u001b[1;32m    918\u001b[0m \u001b[0;34m\u001b[0m\u001b[0m\n\u001b[1;32m    919\u001b[0m     \u001b[0m__bool__\u001b[0m \u001b[0;34m=\u001b[0m \u001b[0m__nonzero__\u001b[0m\u001b[0;34m\u001b[0m\u001b[0m\n",
      "\u001b[0;31mValueError\u001b[0m: The truth value of a Series is ambiguous. Use a.empty, a.bool(), a.item(), a.any() or a.all()."
     ]
    }
   ],
   "source": [
    "df2[df2.Knowledge > 3 or df2.Knowledge < 2] # Won't work. Why? \"or\" and \"and\" is a bitwise operater"
   ]
  },
  {
   "cell_type": "code",
   "execution_count": 31,
   "metadata": {},
   "outputs": [
    {
     "ename": "ValueError",
     "evalue": "The truth value of a Series is ambiguous. Use a.empty, a.bool(), a.item(), a.any() or a.all().",
     "output_type": "error",
     "traceback": [
      "\u001b[0;31m---------------------------------------------------------------------------\u001b[0m",
      "\u001b[0;31mValueError\u001b[0m                                Traceback (most recent call last)",
      "\u001b[0;32m<ipython-input-31-2cdf8ee842f3>\u001b[0m in \u001b[0;36m<module>\u001b[0;34m()\u001b[0m\n\u001b[0;32m----> 1\u001b[0;31m \u001b[0mdf2\u001b[0m\u001b[0;34m[\u001b[0m\u001b[0mdf2\u001b[0m\u001b[0;34m.\u001b[0m\u001b[0mKnowledge\u001b[0m \u001b[0;34m>\u001b[0m \u001b[0;36m3\u001b[0m \u001b[0;34m|\u001b[0m \u001b[0mdf2\u001b[0m\u001b[0;34m.\u001b[0m\u001b[0mKnowledge\u001b[0m \u001b[0;34m<\u001b[0m \u001b[0;36m2\u001b[0m\u001b[0;34m]\u001b[0m \u001b[0;31m# wont work becaus | and & will be called before < ans >\u001b[0m\u001b[0;34m\u001b[0m\u001b[0m\n\u001b[0m",
      "\u001b[0;32m/usr/local/lib/python3.6/dist-packages/pandas/core/generic.py\u001b[0m in \u001b[0;36m__nonzero__\u001b[0;34m(self)\u001b[0m\n\u001b[1;32m    915\u001b[0m         raise ValueError(\"The truth value of a {0} is ambiguous. \"\n\u001b[1;32m    916\u001b[0m                          \u001b[0;34m\"Use a.empty, a.bool(), a.item(), a.any() or a.all().\"\u001b[0m\u001b[0;34m\u001b[0m\u001b[0m\n\u001b[0;32m--> 917\u001b[0;31m                          .format(self.__class__.__name__))\n\u001b[0m\u001b[1;32m    918\u001b[0m \u001b[0;34m\u001b[0m\u001b[0m\n\u001b[1;32m    919\u001b[0m     \u001b[0m__bool__\u001b[0m \u001b[0;34m=\u001b[0m \u001b[0m__nonzero__\u001b[0m\u001b[0;34m\u001b[0m\u001b[0m\n",
      "\u001b[0;31mValueError\u001b[0m: The truth value of a Series is ambiguous. Use a.empty, a.bool(), a.item(), a.any() or a.all()."
     ]
    }
   ],
   "source": [
    "df2[df2.Knowledge > 3 | df2.Knowledge < 2] # wont work becaus | and & will be called before < ans > "
   ]
  },
  {
   "cell_type": "code",
   "execution_count": 32,
   "metadata": {},
   "outputs": [
    {
     "data": {
      "text/html": [
       "<div>\n",
       "<table border=\"1\" class=\"dataframe\">\n",
       "  <thead>\n",
       "    <tr style=\"text-align: right;\">\n",
       "      <th></th>\n",
       "      <th>Name</th>\n",
       "      <th>Knowledge</th>\n",
       "    </tr>\n",
       "  </thead>\n",
       "  <tbody>\n",
       "    <tr>\n",
       "      <th>6</th>\n",
       "      <td>Michael</td>\n",
       "      <td>5</td>\n",
       "    </tr>\n",
       "    <tr>\n",
       "      <th>9</th>\n",
       "      <td>Manuel</td>\n",
       "      <td>1</td>\n",
       "    </tr>\n",
       "    <tr>\n",
       "      <th>10</th>\n",
       "      <td>Richard</td>\n",
       "      <td>5</td>\n",
       "    </tr>\n",
       "  </tbody>\n",
       "</table>\n",
       "</div>"
      ],
      "text/plain": [
       "       Name  Knowledge\n",
       "6   Michael          5\n",
       "9    Manuel          1\n",
       "10  Richard          5"
      ]
     },
     "execution_count": 32,
     "metadata": {},
     "output_type": "execute_result"
    }
   ],
   "source": [
    "df2[(df2.Knowledge > 3) | (df2.Knowledge < 2)]"
   ]
  },
  {
   "cell_type": "code",
   "execution_count": 33,
   "metadata": {},
   "outputs": [
    {
     "data": {
      "text/html": [
       "<div>\n",
       "<table border=\"1\" class=\"dataframe\">\n",
       "  <thead>\n",
       "    <tr style=\"text-align: right;\">\n",
       "      <th></th>\n",
       "      <th>Name</th>\n",
       "      <th>Knowledge</th>\n",
       "    </tr>\n",
       "  </thead>\n",
       "  <tbody>\n",
       "    <tr>\n",
       "      <th>6</th>\n",
       "      <td>Michael</td>\n",
       "      <td>5</td>\n",
       "    </tr>\n",
       "    <tr>\n",
       "      <th>9</th>\n",
       "      <td>Manuel</td>\n",
       "      <td>1</td>\n",
       "    </tr>\n",
       "  </tbody>\n",
       "</table>\n",
       "</div>"
      ],
      "text/plain": [
       "      Name  Knowledge\n",
       "6  Michael          5\n",
       "9   Manuel          1"
      ]
     },
     "execution_count": 33,
     "metadata": {},
     "output_type": "execute_result"
    }
   ],
   "source": [
    "df2[df2.Name.str.contains(\"l\")] # you can call all kinds of String methods"
   ]
  },
  {
   "cell_type": "markdown",
   "metadata": {},
   "source": [
    "# Column operator"
   ]
  },
  {
   "cell_type": "code",
   "execution_count": 34,
   "metadata": {},
   "outputs": [
    {
     "data": {
      "text/plain": [
       "array(['Yes', 'No'], dtype=object)"
      ]
     },
     "execution_count": 34,
     "metadata": {},
     "output_type": "execute_result"
    }
   ],
   "source": [
    "df.Used.unique()"
   ]
  },
  {
   "cell_type": "code",
   "execution_count": 35,
   "metadata": {},
   "outputs": [
    {
     "data": {
      "text/plain": [
       "Yes    8\n",
       "No     3\n",
       "Name: Used, dtype: int64"
      ]
     },
     "execution_count": 35,
     "metadata": {},
     "output_type": "execute_result"
    }
   ],
   "source": [
    "df.Used.value_counts()"
   ]
  },
  {
   "cell_type": "code",
   "execution_count": 36,
   "metadata": {},
   "outputs": [
    {
     "data": {
      "text/plain": [
       "Yes    7\n",
       "No     4\n",
       "Name: UsedJupyter, dtype: int64"
      ]
     },
     "execution_count": 36,
     "metadata": {},
     "output_type": "execute_result"
    }
   ],
   "source": [
    "df.UsedJupyter.value_counts()"
   ]
  },
  {
   "cell_type": "code",
   "execution_count": 37,
   "metadata": {},
   "outputs": [
    {
     "data": {
      "text/html": [
       "<div>\n",
       "<table border=\"1\" class=\"dataframe\">\n",
       "  <thead>\n",
       "    <tr style=\"text-align: right;\">\n",
       "      <th></th>\n",
       "      <th>Name</th>\n",
       "      <th>Interested</th>\n",
       "    </tr>\n",
       "  </thead>\n",
       "  <tbody>\n",
       "    <tr>\n",
       "      <th>8</th>\n",
       "      <td>Obama</td>\n",
       "      <td>Yes</td>\n",
       "    </tr>\n",
       "  </tbody>\n",
       "</table>\n",
       "</div>"
      ],
      "text/plain": [
       "    Name Interested\n",
       "8  Obama        Yes"
      ]
     },
     "execution_count": 37,
     "metadata": {},
     "output_type": "execute_result"
    }
   ],
   "source": [
    "df[(df.Used == \"Yes\") & (df.UsedJupyter == \"No\")][[\"Name\", \"Interested\"]]"
   ]
  },
  {
   "cell_type": "markdown",
   "metadata": {},
   "source": [
    "# Differense between pd.DataFrame and pd.Series"
   ]
  },
  {
   "cell_type": "code",
   "execution_count": 38,
   "metadata": {},
   "outputs": [
    {
     "data": {
      "text/plain": [
       "0      Hans\n",
       "1      John\n",
       "2     Jonas\n",
       "4     Frank\n",
       "5     Roman\n",
       "7    Hannes\n",
       "8     Obama\n",
       "9    Manuel\n",
       "Name: Name, dtype: object"
      ]
     },
     "execution_count": 38,
     "metadata": {},
     "output_type": "execute_result"
    }
   ],
   "source": [
    "df[(df.Used == \"Yes\")].Name"
   ]
  },
  {
   "cell_type": "code",
   "execution_count": 39,
   "metadata": {},
   "outputs": [
    {
     "data": {
      "text/html": [
       "<div>\n",
       "<table border=\"1\" class=\"dataframe\">\n",
       "  <thead>\n",
       "    <tr style=\"text-align: right;\">\n",
       "      <th></th>\n",
       "      <th>Name</th>\n",
       "      <th>Interested</th>\n",
       "    </tr>\n",
       "  </thead>\n",
       "  <tbody>\n",
       "    <tr>\n",
       "      <th>0</th>\n",
       "      <td>Hans</td>\n",
       "      <td>Yes</td>\n",
       "    </tr>\n",
       "    <tr>\n",
       "      <th>1</th>\n",
       "      <td>John</td>\n",
       "      <td>Yes</td>\n",
       "    </tr>\n",
       "    <tr>\n",
       "      <th>2</th>\n",
       "      <td>Jonas</td>\n",
       "      <td>Yes</td>\n",
       "    </tr>\n",
       "    <tr>\n",
       "      <th>4</th>\n",
       "      <td>Frank</td>\n",
       "      <td>Yes</td>\n",
       "    </tr>\n",
       "    <tr>\n",
       "      <th>5</th>\n",
       "      <td>Roman</td>\n",
       "      <td>Yes</td>\n",
       "    </tr>\n",
       "    <tr>\n",
       "      <th>7</th>\n",
       "      <td>Hannes</td>\n",
       "      <td>Yes</td>\n",
       "    </tr>\n",
       "    <tr>\n",
       "      <th>8</th>\n",
       "      <td>Obama</td>\n",
       "      <td>Yes</td>\n",
       "    </tr>\n",
       "    <tr>\n",
       "      <th>9</th>\n",
       "      <td>Manuel</td>\n",
       "      <td>Yes</td>\n",
       "    </tr>\n",
       "  </tbody>\n",
       "</table>\n",
       "</div>"
      ],
      "text/plain": [
       "     Name Interested\n",
       "0    Hans        Yes\n",
       "1    John        Yes\n",
       "2   Jonas        Yes\n",
       "4   Frank        Yes\n",
       "5   Roman        Yes\n",
       "7  Hannes        Yes\n",
       "8   Obama        Yes\n",
       "9  Manuel        Yes"
      ]
     },
     "execution_count": 39,
     "metadata": {},
     "output_type": "execute_result"
    }
   ],
   "source": [
    "df[(df.Used == \"Yes\")][[\"Name\", \"Interested\"]]"
   ]
  },
  {
   "cell_type": "code",
   "execution_count": 40,
   "metadata": {},
   "outputs": [
    {
     "data": {
      "text/plain": [
       "pandas.core.series.Series"
      ]
     },
     "execution_count": 40,
     "metadata": {},
     "output_type": "execute_result"
    }
   ],
   "source": [
    "type (df[(df.Used == \"Yes\") & (df.UsedJupyter == \"No\")].Name)"
   ]
  },
  {
   "cell_type": "code",
   "execution_count": 41,
   "metadata": {},
   "outputs": [
    {
     "data": {
      "text/plain": [
       "pandas.core.frame.DataFrame"
      ]
     },
     "execution_count": 41,
     "metadata": {},
     "output_type": "execute_result"
    }
   ],
   "source": [
    "type (df[(df.Used == \"Yes\") & (df.UsedJupyter == \"No\")][[\"Name\", \"Interested\"]])"
   ]
  },
  {
   "cell_type": "markdown",
   "metadata": {
    "collapsed": true
   },
   "source": [
    "# Slicing"
   ]
  },
  {
   "cell_type": "code",
   "execution_count": 42,
   "metadata": {},
   "outputs": [
    {
     "data": {
      "text/html": [
       "<div>\n",
       "<table border=\"1\" class=\"dataframe\">\n",
       "  <thead>\n",
       "    <tr style=\"text-align: right;\">\n",
       "      <th></th>\n",
       "      <th>Zeitstempel</th>\n",
       "      <th>Name</th>\n",
       "      <th>Interested</th>\n",
       "      <th>Why</th>\n",
       "      <th>Used</th>\n",
       "      <th>For</th>\n",
       "      <th>UsedJupyter</th>\n",
       "      <th>Topics</th>\n",
       "      <th>TopicsOther</th>\n",
       "      <th>Knowledge</th>\n",
       "    </tr>\n",
       "  </thead>\n",
       "  <tbody>\n",
       "    <tr>\n",
       "      <th>1</th>\n",
       "      <td>2017/03/24 12:49:26 nachm. OEZ</td>\n",
       "      <td>John</td>\n",
       "      <td>Yes</td>\n",
       "      <td>To do cool stuff (data analysis)</td>\n",
       "      <td>Yes</td>\n",
       "      <td>some machine learning</td>\n",
       "      <td>Yes</td>\n",
       "      <td>Processing my data in python in order tro get ...</td>\n",
       "      <td>NaN</td>\n",
       "      <td>4</td>\n",
       "    </tr>\n",
       "    <tr>\n",
       "      <th>2</th>\n",
       "      <td>2017/03/24 1:03:40 nachm. OEZ</td>\n",
       "      <td>Jonas</td>\n",
       "      <td>Yes</td>\n",
       "      <td>Because</td>\n",
       "      <td>Yes</td>\n",
       "      <td>ML</td>\n",
       "      <td>Yes</td>\n",
       "      <td>Setting up python;Basic understanding of pytho...</td>\n",
       "      <td>NaN</td>\n",
       "      <td>5</td>\n",
       "    </tr>\n",
       "  </tbody>\n",
       "</table>\n",
       "</div>"
      ],
      "text/plain": [
       "                      Zeitstempel   Name Interested  \\\n",
       "1  2017/03/24 12:49:26 nachm. OEZ   John        Yes   \n",
       "2   2017/03/24 1:03:40 nachm. OEZ  Jonas        Yes   \n",
       "\n",
       "                                Why Used                    For UsedJupyter  \\\n",
       "1  To do cool stuff (data analysis)  Yes  some machine learning         Yes   \n",
       "2                           Because  Yes                     ML         Yes   \n",
       "\n",
       "                                              Topics TopicsOther  Knowledge  \n",
       "1  Processing my data in python in order tro get ...         NaN          4  \n",
       "2  Setting up python;Basic understanding of pytho...         NaN          5  "
      ]
     },
     "execution_count": 42,
     "metadata": {},
     "output_type": "execute_result"
    }
   ],
   "source": [
    "df[1:3]"
   ]
  },
  {
   "cell_type": "markdown",
   "metadata": {},
   "source": [
    "# Merge"
   ]
  },
  {
   "cell_type": "code",
   "execution_count": 43,
   "metadata": {
    "collapsed": true
   },
   "outputs": [],
   "source": [
    "import numpy as np"
   ]
  },
  {
   "cell_type": "code",
   "execution_count": 44,
   "metadata": {
    "collapsed": true
   },
   "outputs": [],
   "source": [
    "a = np.array([[1,2,3,4], [5,6,7,8], [9,10,11,12] , [13,14,15,16]])\n",
    "df2 = pd.DataFrame(a, columns=[\"C1\", \"C2\", \"C3\", \"C4\"])\n",
    "a2 = a + 16\n",
    "df3 = pd.DataFrame(a2, columns=[\"C1\", \"C2\", \"C3\", \"C4\"])"
   ]
  },
  {
   "cell_type": "code",
   "execution_count": 45,
   "metadata": {},
   "outputs": [
    {
     "data": {
      "text/html": [
       "<div>\n",
       "<table border=\"1\" class=\"dataframe\">\n",
       "  <thead>\n",
       "    <tr style=\"text-align: right;\">\n",
       "      <th></th>\n",
       "      <th>C1</th>\n",
       "      <th>C2</th>\n",
       "      <th>C3</th>\n",
       "      <th>C4</th>\n",
       "    </tr>\n",
       "  </thead>\n",
       "  <tbody>\n",
       "    <tr>\n",
       "      <th>0</th>\n",
       "      <td>1</td>\n",
       "      <td>2</td>\n",
       "      <td>3</td>\n",
       "      <td>4</td>\n",
       "    </tr>\n",
       "    <tr>\n",
       "      <th>1</th>\n",
       "      <td>5</td>\n",
       "      <td>6</td>\n",
       "      <td>7</td>\n",
       "      <td>8</td>\n",
       "    </tr>\n",
       "    <tr>\n",
       "      <th>2</th>\n",
       "      <td>9</td>\n",
       "      <td>10</td>\n",
       "      <td>11</td>\n",
       "      <td>12</td>\n",
       "    </tr>\n",
       "    <tr>\n",
       "      <th>3</th>\n",
       "      <td>13</td>\n",
       "      <td>14</td>\n",
       "      <td>15</td>\n",
       "      <td>16</td>\n",
       "    </tr>\n",
       "  </tbody>\n",
       "</table>\n",
       "</div>"
      ],
      "text/plain": [
       "   C1  C2  C3  C4\n",
       "0   1   2   3   4\n",
       "1   5   6   7   8\n",
       "2   9  10  11  12\n",
       "3  13  14  15  16"
      ]
     },
     "execution_count": 45,
     "metadata": {},
     "output_type": "execute_result"
    }
   ],
   "source": [
    "df2"
   ]
  },
  {
   "cell_type": "code",
   "execution_count": 46,
   "metadata": {},
   "outputs": [
    {
     "data": {
      "text/html": [
       "<div>\n",
       "<table border=\"1\" class=\"dataframe\">\n",
       "  <thead>\n",
       "    <tr style=\"text-align: right;\">\n",
       "      <th></th>\n",
       "      <th>C1</th>\n",
       "      <th>C2</th>\n",
       "      <th>C3</th>\n",
       "      <th>C4</th>\n",
       "    </tr>\n",
       "  </thead>\n",
       "  <tbody>\n",
       "    <tr>\n",
       "      <th>0</th>\n",
       "      <td>17</td>\n",
       "      <td>18</td>\n",
       "      <td>19</td>\n",
       "      <td>20</td>\n",
       "    </tr>\n",
       "    <tr>\n",
       "      <th>1</th>\n",
       "      <td>21</td>\n",
       "      <td>22</td>\n",
       "      <td>23</td>\n",
       "      <td>24</td>\n",
       "    </tr>\n",
       "    <tr>\n",
       "      <th>2</th>\n",
       "      <td>25</td>\n",
       "      <td>26</td>\n",
       "      <td>27</td>\n",
       "      <td>28</td>\n",
       "    </tr>\n",
       "    <tr>\n",
       "      <th>3</th>\n",
       "      <td>29</td>\n",
       "      <td>30</td>\n",
       "      <td>31</td>\n",
       "      <td>32</td>\n",
       "    </tr>\n",
       "  </tbody>\n",
       "</table>\n",
       "</div>"
      ],
      "text/plain": [
       "   C1  C2  C3  C4\n",
       "0  17  18  19  20\n",
       "1  21  22  23  24\n",
       "2  25  26  27  28\n",
       "3  29  30  31  32"
      ]
     },
     "execution_count": 46,
     "metadata": {},
     "output_type": "execute_result"
    }
   ],
   "source": [
    "df3"
   ]
  },
  {
   "cell_type": "code",
   "execution_count": 47,
   "metadata": {},
   "outputs": [
    {
     "data": {
      "text/html": [
       "<div>\n",
       "<table border=\"1\" class=\"dataframe\">\n",
       "  <thead>\n",
       "    <tr style=\"text-align: right;\">\n",
       "      <th></th>\n",
       "      <th>C1</th>\n",
       "      <th>C2</th>\n",
       "      <th>C3</th>\n",
       "      <th>C4</th>\n",
       "    </tr>\n",
       "  </thead>\n",
       "  <tbody>\n",
       "    <tr>\n",
       "      <th>0</th>\n",
       "      <td>1</td>\n",
       "      <td>2</td>\n",
       "      <td>3</td>\n",
       "      <td>4</td>\n",
       "    </tr>\n",
       "    <tr>\n",
       "      <th>1</th>\n",
       "      <td>5</td>\n",
       "      <td>6</td>\n",
       "      <td>7</td>\n",
       "      <td>8</td>\n",
       "    </tr>\n",
       "    <tr>\n",
       "      <th>2</th>\n",
       "      <td>9</td>\n",
       "      <td>10</td>\n",
       "      <td>11</td>\n",
       "      <td>12</td>\n",
       "    </tr>\n",
       "    <tr>\n",
       "      <th>3</th>\n",
       "      <td>13</td>\n",
       "      <td>14</td>\n",
       "      <td>15</td>\n",
       "      <td>16</td>\n",
       "    </tr>\n",
       "    <tr>\n",
       "      <th>0</th>\n",
       "      <td>17</td>\n",
       "      <td>18</td>\n",
       "      <td>19</td>\n",
       "      <td>20</td>\n",
       "    </tr>\n",
       "    <tr>\n",
       "      <th>1</th>\n",
       "      <td>21</td>\n",
       "      <td>22</td>\n",
       "      <td>23</td>\n",
       "      <td>24</td>\n",
       "    </tr>\n",
       "    <tr>\n",
       "      <th>2</th>\n",
       "      <td>25</td>\n",
       "      <td>26</td>\n",
       "      <td>27</td>\n",
       "      <td>28</td>\n",
       "    </tr>\n",
       "    <tr>\n",
       "      <th>3</th>\n",
       "      <td>29</td>\n",
       "      <td>30</td>\n",
       "      <td>31</td>\n",
       "      <td>32</td>\n",
       "    </tr>\n",
       "  </tbody>\n",
       "</table>\n",
       "</div>"
      ],
      "text/plain": [
       "   C1  C2  C3  C4\n",
       "0   1   2   3   4\n",
       "1   5   6   7   8\n",
       "2   9  10  11  12\n",
       "3  13  14  15  16\n",
       "0  17  18  19  20\n",
       "1  21  22  23  24\n",
       "2  25  26  27  28\n",
       "3  29  30  31  32"
      ]
     },
     "execution_count": 47,
     "metadata": {},
     "output_type": "execute_result"
    }
   ],
   "source": [
    "pd.concat([df2, df3])"
   ]
  },
  {
   "cell_type": "code",
   "execution_count": 48,
   "metadata": {
    "collapsed": true
   },
   "outputs": [],
   "source": [
    "df2[\"C5\"] = 1"
   ]
  },
  {
   "cell_type": "code",
   "execution_count": 49,
   "metadata": {},
   "outputs": [
    {
     "data": {
      "text/html": [
       "<div>\n",
       "<table border=\"1\" class=\"dataframe\">\n",
       "  <thead>\n",
       "    <tr style=\"text-align: right;\">\n",
       "      <th></th>\n",
       "      <th>C1</th>\n",
       "      <th>C2</th>\n",
       "      <th>C3</th>\n",
       "      <th>C4</th>\n",
       "      <th>C5</th>\n",
       "    </tr>\n",
       "  </thead>\n",
       "  <tbody>\n",
       "    <tr>\n",
       "      <th>0</th>\n",
       "      <td>1</td>\n",
       "      <td>2</td>\n",
       "      <td>3</td>\n",
       "      <td>4</td>\n",
       "      <td>1</td>\n",
       "    </tr>\n",
       "    <tr>\n",
       "      <th>1</th>\n",
       "      <td>5</td>\n",
       "      <td>6</td>\n",
       "      <td>7</td>\n",
       "      <td>8</td>\n",
       "      <td>1</td>\n",
       "    </tr>\n",
       "    <tr>\n",
       "      <th>2</th>\n",
       "      <td>9</td>\n",
       "      <td>10</td>\n",
       "      <td>11</td>\n",
       "      <td>12</td>\n",
       "      <td>1</td>\n",
       "    </tr>\n",
       "    <tr>\n",
       "      <th>3</th>\n",
       "      <td>13</td>\n",
       "      <td>14</td>\n",
       "      <td>15</td>\n",
       "      <td>16</td>\n",
       "      <td>1</td>\n",
       "    </tr>\n",
       "  </tbody>\n",
       "</table>\n",
       "</div>"
      ],
      "text/plain": [
       "   C1  C2  C3  C4  C5\n",
       "0   1   2   3   4   1\n",
       "1   5   6   7   8   1\n",
       "2   9  10  11  12   1\n",
       "3  13  14  15  16   1"
      ]
     },
     "execution_count": 49,
     "metadata": {},
     "output_type": "execute_result"
    }
   ],
   "source": [
    "df2"
   ]
  },
  {
   "cell_type": "code",
   "execution_count": 50,
   "metadata": {},
   "outputs": [
    {
     "data": {
      "text/html": [
       "<div>\n",
       "<table border=\"1\" class=\"dataframe\">\n",
       "  <thead>\n",
       "    <tr style=\"text-align: right;\">\n",
       "      <th></th>\n",
       "      <th>C1</th>\n",
       "      <th>C2</th>\n",
       "      <th>C3</th>\n",
       "      <th>C4</th>\n",
       "      <th>C5</th>\n",
       "    </tr>\n",
       "  </thead>\n",
       "  <tbody>\n",
       "    <tr>\n",
       "      <th>0</th>\n",
       "      <td>1</td>\n",
       "      <td>2</td>\n",
       "      <td>3</td>\n",
       "      <td>4</td>\n",
       "      <td>1.0</td>\n",
       "    </tr>\n",
       "    <tr>\n",
       "      <th>1</th>\n",
       "      <td>5</td>\n",
       "      <td>6</td>\n",
       "      <td>7</td>\n",
       "      <td>8</td>\n",
       "      <td>1.0</td>\n",
       "    </tr>\n",
       "    <tr>\n",
       "      <th>2</th>\n",
       "      <td>9</td>\n",
       "      <td>10</td>\n",
       "      <td>11</td>\n",
       "      <td>12</td>\n",
       "      <td>1.0</td>\n",
       "    </tr>\n",
       "    <tr>\n",
       "      <th>3</th>\n",
       "      <td>13</td>\n",
       "      <td>14</td>\n",
       "      <td>15</td>\n",
       "      <td>16</td>\n",
       "      <td>1.0</td>\n",
       "    </tr>\n",
       "    <tr>\n",
       "      <th>0</th>\n",
       "      <td>17</td>\n",
       "      <td>18</td>\n",
       "      <td>19</td>\n",
       "      <td>20</td>\n",
       "      <td>NaN</td>\n",
       "    </tr>\n",
       "    <tr>\n",
       "      <th>1</th>\n",
       "      <td>21</td>\n",
       "      <td>22</td>\n",
       "      <td>23</td>\n",
       "      <td>24</td>\n",
       "      <td>NaN</td>\n",
       "    </tr>\n",
       "    <tr>\n",
       "      <th>2</th>\n",
       "      <td>25</td>\n",
       "      <td>26</td>\n",
       "      <td>27</td>\n",
       "      <td>28</td>\n",
       "      <td>NaN</td>\n",
       "    </tr>\n",
       "    <tr>\n",
       "      <th>3</th>\n",
       "      <td>29</td>\n",
       "      <td>30</td>\n",
       "      <td>31</td>\n",
       "      <td>32</td>\n",
       "      <td>NaN</td>\n",
       "    </tr>\n",
       "  </tbody>\n",
       "</table>\n",
       "</div>"
      ],
      "text/plain": [
       "   C1  C2  C3  C4   C5\n",
       "0   1   2   3   4  1.0\n",
       "1   5   6   7   8  1.0\n",
       "2   9  10  11  12  1.0\n",
       "3  13  14  15  16  1.0\n",
       "0  17  18  19  20  NaN\n",
       "1  21  22  23  24  NaN\n",
       "2  25  26  27  28  NaN\n",
       "3  29  30  31  32  NaN"
      ]
     },
     "execution_count": 50,
     "metadata": {},
     "output_type": "execute_result"
    }
   ],
   "source": [
    "df4 = pd.concat([df2, df3])\n",
    "df4"
   ]
  },
  {
   "cell_type": "code",
   "execution_count": 51,
   "metadata": {},
   "outputs": [
    {
     "data": {
      "text/html": [
       "<div>\n",
       "<table border=\"1\" class=\"dataframe\">\n",
       "  <thead>\n",
       "    <tr style=\"text-align: right;\">\n",
       "      <th></th>\n",
       "      <th>C1</th>\n",
       "      <th>C6</th>\n",
       "    </tr>\n",
       "  </thead>\n",
       "  <tbody>\n",
       "    <tr>\n",
       "      <th>0</th>\n",
       "      <td>1</td>\n",
       "      <td>Y</td>\n",
       "    </tr>\n",
       "    <tr>\n",
       "      <th>1</th>\n",
       "      <td>5</td>\n",
       "      <td>E</td>\n",
       "    </tr>\n",
       "    <tr>\n",
       "      <th>2</th>\n",
       "      <td>9</td>\n",
       "      <td>A</td>\n",
       "    </tr>\n",
       "    <tr>\n",
       "      <th>3</th>\n",
       "      <td>13</td>\n",
       "      <td>H</td>\n",
       "    </tr>\n",
       "  </tbody>\n",
       "</table>\n",
       "</div>"
      ],
      "text/plain": [
       "   C1 C6\n",
       "0   1  Y\n",
       "1   5  E\n",
       "2   9  A\n",
       "3  13  H"
      ]
     },
     "execution_count": 51,
     "metadata": {},
     "output_type": "execute_result"
    }
   ],
   "source": [
    "df5 = pd.DataFrame(a[:,0], columns=[\"C1\"])\n",
    "df5[\"C6\"] = [\"Y\", \"E\", \"A\", \"H\"]\n",
    "df5"
   ]
  },
  {
   "cell_type": "code",
   "execution_count": null,
   "metadata": {
    "collapsed": true
   },
   "outputs": [],
   "source": []
  },
  {
   "cell_type": "code",
   "execution_count": 52,
   "metadata": {},
   "outputs": [
    {
     "data": {
      "text/html": [
       "<div>\n",
       "<table border=\"1\" class=\"dataframe\">\n",
       "  <thead>\n",
       "    <tr style=\"text-align: right;\">\n",
       "      <th></th>\n",
       "      <th>C1</th>\n",
       "      <th>C2</th>\n",
       "      <th>C3</th>\n",
       "      <th>C4</th>\n",
       "      <th>C5</th>\n",
       "      <th>C6</th>\n",
       "    </tr>\n",
       "  </thead>\n",
       "  <tbody>\n",
       "    <tr>\n",
       "      <th>0</th>\n",
       "      <td>1</td>\n",
       "      <td>2</td>\n",
       "      <td>3</td>\n",
       "      <td>4</td>\n",
       "      <td>1.0</td>\n",
       "      <td>Y</td>\n",
       "    </tr>\n",
       "    <tr>\n",
       "      <th>1</th>\n",
       "      <td>5</td>\n",
       "      <td>6</td>\n",
       "      <td>7</td>\n",
       "      <td>8</td>\n",
       "      <td>1.0</td>\n",
       "      <td>E</td>\n",
       "    </tr>\n",
       "    <tr>\n",
       "      <th>2</th>\n",
       "      <td>9</td>\n",
       "      <td>10</td>\n",
       "      <td>11</td>\n",
       "      <td>12</td>\n",
       "      <td>1.0</td>\n",
       "      <td>A</td>\n",
       "    </tr>\n",
       "    <tr>\n",
       "      <th>3</th>\n",
       "      <td>13</td>\n",
       "      <td>14</td>\n",
       "      <td>15</td>\n",
       "      <td>16</td>\n",
       "      <td>1.0</td>\n",
       "      <td>H</td>\n",
       "    </tr>\n",
       "    <tr>\n",
       "      <th>4</th>\n",
       "      <td>17</td>\n",
       "      <td>18</td>\n",
       "      <td>19</td>\n",
       "      <td>20</td>\n",
       "      <td>NaN</td>\n",
       "      <td>NaN</td>\n",
       "    </tr>\n",
       "    <tr>\n",
       "      <th>5</th>\n",
       "      <td>21</td>\n",
       "      <td>22</td>\n",
       "      <td>23</td>\n",
       "      <td>24</td>\n",
       "      <td>NaN</td>\n",
       "      <td>NaN</td>\n",
       "    </tr>\n",
       "    <tr>\n",
       "      <th>6</th>\n",
       "      <td>25</td>\n",
       "      <td>26</td>\n",
       "      <td>27</td>\n",
       "      <td>28</td>\n",
       "      <td>NaN</td>\n",
       "      <td>NaN</td>\n",
       "    </tr>\n",
       "    <tr>\n",
       "      <th>7</th>\n",
       "      <td>29</td>\n",
       "      <td>30</td>\n",
       "      <td>31</td>\n",
       "      <td>32</td>\n",
       "      <td>NaN</td>\n",
       "      <td>NaN</td>\n",
       "    </tr>\n",
       "  </tbody>\n",
       "</table>\n",
       "</div>"
      ],
      "text/plain": [
       "   C1  C2  C3  C4   C5   C6\n",
       "0   1   2   3   4  1.0    Y\n",
       "1   5   6   7   8  1.0    E\n",
       "2   9  10  11  12  1.0    A\n",
       "3  13  14  15  16  1.0    H\n",
       "4  17  18  19  20  NaN  NaN\n",
       "5  21  22  23  24  NaN  NaN\n",
       "6  25  26  27  28  NaN  NaN\n",
       "7  29  30  31  32  NaN  NaN"
      ]
     },
     "execution_count": 52,
     "metadata": {},
     "output_type": "execute_result"
    }
   ],
   "source": [
    "pd.merge(df4, df5, on=[\"C1\"], how=\"outer\") # Test: \"inner\" thats what you know from SQL"
   ]
  },
  {
   "cell_type": "markdown",
   "metadata": {},
   "source": [
    "# Everthing happend without manipulating the df itself"
   ]
  },
  {
   "cell_type": "code",
   "execution_count": 53,
   "metadata": {},
   "outputs": [
    {
     "data": {
      "text/plain": [
       "array([2, 4, 2, 1, 2, 4, 2, 2, 2, 1, 1])"
      ]
     },
     "execution_count": 53,
     "metadata": {},
     "output_type": "execute_result"
    }
   ],
   "source": [
    "import numpy as np   \n",
    "x = np.random.randint(1, 5, size=len(df))\n",
    "x"
   ]
  },
  {
   "cell_type": "code",
   "execution_count": null,
   "metadata": {
    "collapsed": true
   },
   "outputs": [],
   "source": []
  },
  {
   "cell_type": "code",
   "execution_count": 54,
   "metadata": {},
   "outputs": [
    {
     "data": {
      "text/plain": [
       "2.9090909090909092"
      ]
     },
     "execution_count": 54,
     "metadata": {},
     "output_type": "execute_result"
    }
   ],
   "source": [
    "df.Knowledge.mean()"
   ]
  },
  {
   "cell_type": "code",
   "execution_count": 55,
   "metadata": {},
   "outputs": [
    {
     "data": {
      "text/plain": [
       "1.6403990645294491"
      ]
     },
     "execution_count": 55,
     "metadata": {},
     "output_type": "execute_result"
    }
   ],
   "source": [
    "df.Knowledge.std()"
   ]
  },
  {
   "cell_type": "markdown",
   "metadata": {},
   "source": [
    "## But who never used python, needs to have zero knowledge, right?"
   ]
  },
  {
   "cell_type": "code",
   "execution_count": 56,
   "metadata": {
    "collapsed": true
   },
   "outputs": [],
   "source": [
    "df.ix[df.Used == \"No\", \"Knowledge\"] = 0"
   ]
  },
  {
   "cell_type": "code",
   "execution_count": 57,
   "metadata": {},
   "outputs": [
    {
     "data": {
      "text/plain": [
       "1.7272727272727273"
      ]
     },
     "execution_count": 57,
     "metadata": {},
     "output_type": "execute_result"
    }
   ],
   "source": [
    "df.Knowledge.mean()"
   ]
  },
  {
   "cell_type": "markdown",
   "metadata": {},
   "source": [
    "## Because SPSS likes 0 and 1 more then No and Yes. Lets replace them"
   ]
  },
  {
   "cell_type": "code",
   "execution_count": 58,
   "metadata": {
    "collapsed": true
   },
   "outputs": [],
   "source": [
    "replaceColumn = [\"Interested\", \"Used\", \"UsedJupyter\"]"
   ]
  },
  {
   "cell_type": "code",
   "execution_count": 59,
   "metadata": {
    "collapsed": true
   },
   "outputs": [],
   "source": [
    "for c in replaceColumn:\n",
    "    df.ix[df[c] == \"No\", c] = 0\n",
    "    df.ix[df[c] == \"Yes\", c] = 1"
   ]
  },
  {
   "cell_type": "code",
   "execution_count": 60,
   "metadata": {},
   "outputs": [
    {
     "data": {
      "text/html": [
       "<div>\n",
       "<table border=\"1\" class=\"dataframe\">\n",
       "  <thead>\n",
       "    <tr style=\"text-align: right;\">\n",
       "      <th></th>\n",
       "      <th>Zeitstempel</th>\n",
       "      <th>Name</th>\n",
       "      <th>Interested</th>\n",
       "      <th>Why</th>\n",
       "      <th>Used</th>\n",
       "      <th>For</th>\n",
       "      <th>UsedJupyter</th>\n",
       "      <th>Topics</th>\n",
       "      <th>TopicsOther</th>\n",
       "      <th>Knowledge</th>\n",
       "    </tr>\n",
       "  </thead>\n",
       "  <tbody>\n",
       "    <tr>\n",
       "      <th>0</th>\n",
       "      <td>2017/03/24 12:45:49 nachm. OEZ</td>\n",
       "      <td>Hans</td>\n",
       "      <td>1</td>\n",
       "      <td>Training GANs to take over the world.</td>\n",
       "      <td>1</td>\n",
       "      <td>Nothing useful.</td>\n",
       "      <td>1</td>\n",
       "      <td>Machine Learing</td>\n",
       "      <td>NumPy, Tensorflow, Processing my data in pytho...</td>\n",
       "      <td>1</td>\n",
       "    </tr>\n",
       "    <tr>\n",
       "      <th>1</th>\n",
       "      <td>2017/03/24 12:49:26 nachm. OEZ</td>\n",
       "      <td>John</td>\n",
       "      <td>1</td>\n",
       "      <td>To do cool stuff (data analysis)</td>\n",
       "      <td>1</td>\n",
       "      <td>some machine learning</td>\n",
       "      <td>1</td>\n",
       "      <td>Processing my data in python in order tro get ...</td>\n",
       "      <td>NaN</td>\n",
       "      <td>4</td>\n",
       "    </tr>\n",
       "    <tr>\n",
       "      <th>2</th>\n",
       "      <td>2017/03/24 1:03:40 nachm. OEZ</td>\n",
       "      <td>Jonas</td>\n",
       "      <td>1</td>\n",
       "      <td>Because</td>\n",
       "      <td>1</td>\n",
       "      <td>ML</td>\n",
       "      <td>1</td>\n",
       "      <td>Setting up python;Basic understanding of pytho...</td>\n",
       "      <td>NaN</td>\n",
       "      <td>5</td>\n",
       "    </tr>\n",
       "    <tr>\n",
       "      <th>3</th>\n",
       "      <td>2017/03/24 1:05:35 nachm. OEZ</td>\n",
       "      <td>Tim</td>\n",
       "      <td>1</td>\n",
       "      <td>NaN</td>\n",
       "      <td>0</td>\n",
       "      <td>I just used my python before</td>\n",
       "      <td>0</td>\n",
       "      <td>Setting up python;Basic understanding of pytho...</td>\n",
       "      <td>NaN</td>\n",
       "      <td>0</td>\n",
       "    </tr>\n",
       "    <tr>\n",
       "      <th>4</th>\n",
       "      <td>2017/03/24 1:09:57 nachm. OEZ</td>\n",
       "      <td>Frank</td>\n",
       "      <td>1</td>\n",
       "      <td>It's a Monty Python reference.</td>\n",
       "      <td>1</td>\n",
       "      <td>Stuff</td>\n",
       "      <td>1</td>\n",
       "      <td>Generating nice figures in python for my paper...</td>\n",
       "      <td>What is the sense of it all?</td>\n",
       "      <td>2</td>\n",
       "    </tr>\n",
       "  </tbody>\n",
       "</table>\n",
       "</div>"
      ],
      "text/plain": [
       "                      Zeitstempel   Name Interested  \\\n",
       "0  2017/03/24 12:45:49 nachm. OEZ   Hans          1   \n",
       "1  2017/03/24 12:49:26 nachm. OEZ   John          1   \n",
       "2   2017/03/24 1:03:40 nachm. OEZ  Jonas          1   \n",
       "3   2017/03/24 1:05:35 nachm. OEZ    Tim          1   \n",
       "4   2017/03/24 1:09:57 nachm. OEZ  Frank          1   \n",
       "\n",
       "                                     Why Used                           For  \\\n",
       "0  Training GANs to take over the world.    1               Nothing useful.   \n",
       "1       To do cool stuff (data analysis)    1         some machine learning   \n",
       "2                                Because    1                            ML   \n",
       "3                                    NaN    0  I just used my python before   \n",
       "4         It's a Monty Python reference.    1                         Stuff   \n",
       "\n",
       "  UsedJupyter                                             Topics  \\\n",
       "0           1                                    Machine Learing   \n",
       "1           1  Processing my data in python in order tro get ...   \n",
       "2           1  Setting up python;Basic understanding of pytho...   \n",
       "3           0  Setting up python;Basic understanding of pytho...   \n",
       "4           1  Generating nice figures in python for my paper...   \n",
       "\n",
       "                                         TopicsOther  Knowledge  \n",
       "0  NumPy, Tensorflow, Processing my data in pytho...          1  \n",
       "1                                                NaN          4  \n",
       "2                                                NaN          5  \n",
       "3                                                NaN          0  \n",
       "4                       What is the sense of it all?          2  "
      ]
     },
     "execution_count": 60,
     "metadata": {},
     "output_type": "execute_result"
    }
   ],
   "source": [
    "df.head()"
   ]
  },
  {
   "cell_type": "code",
   "execution_count": 61,
   "metadata": {
    "collapsed": true
   },
   "outputs": [],
   "source": [
    "df.to_csv(\"./dataset_1/data_nice.csv\")"
   ]
  },
  {
   "cell_type": "markdown",
   "metadata": {},
   "source": [
    "## So What about the Topics, What should have I realy done?"
   ]
  },
  {
   "cell_type": "code",
   "execution_count": 62,
   "metadata": {},
   "outputs": [
    {
     "data": {
      "text/plain": [
       "Setting up python;Basic understanding of python;Processing my data in python in order tro get it ready for SPSS;Running stats in python;Running experiments/studys in python;Generating nice figures in python for my paper;Machine Learing    2\n",
       "Machine Learing                                                                                                                                                                                                                                2\n",
       "Processing my data in python in order tro get it ready for SPSS;Running stats in python;Running experiments/studys in python;Generating nice figures in python for my paper;Machine Learing                                                    2\n",
       "Basic understanding of python;Processing my data in python in order tro get it ready for SPSS;Running experiments/studys in python;Generating nice figures in python for my paper                                                              1\n",
       "Processing my data in python in order tro get it ready for SPSS;Running stats in python;Generating nice figures in python for my paper;Machine Learing                                                                                         1\n",
       "Setting up python;Basic understanding of python;Processing my data in python in order tro get it ready for SPSS;Running stats in python;Running experiments/studys in python;Generating nice figures in python for my paper                    1\n",
       "Generating nice figures in python for my paper;Machine Learing                                                                                                                                                                                 1\n",
       "Running stats in python;Generating nice figures in python for my paper;Machine Learing                                                                                                                                                         1\n",
       "Name: Topics, dtype: int64"
      ]
     },
     "execution_count": 62,
     "metadata": {},
     "output_type": "execute_result"
    }
   ],
   "source": [
    "df.Topics.value_counts()"
   ]
  },
  {
   "cell_type": "code",
   "execution_count": 63,
   "metadata": {},
   "outputs": [
    {
     "data": {
      "text/plain": [
       "0                                     [Machine Learing]\n",
       "1     [Processing my data in python in order tro get...\n",
       "2     [Setting up python, Basic understanding of pyt...\n",
       "3     [Setting up python, Basic understanding of pyt...\n",
       "4     [Generating nice figures in python for my pape...\n",
       "5     [Processing my data in python in order tro get...\n",
       "6     [Basic understanding of python, Processing my ...\n",
       "7     [Running stats in python, Generating nice figu...\n",
       "8     [Setting up python, Basic understanding of pyt...\n",
       "9     [Processing my data in python in order tro get...\n",
       "10                                    [Machine Learing]\n",
       "Name: Topics, dtype: object"
      ]
     },
     "execution_count": 63,
     "metadata": {},
     "output_type": "execute_result"
    }
   ],
   "source": [
    "df.Topics.str.split(\";\")"
   ]
  },
  {
   "cell_type": "code",
   "execution_count": 64,
   "metadata": {},
   "outputs": [
    {
     "data": {
      "text/plain": [
       "[['Machine Learing'],\n",
       " ['Processing my data in python in order tro get it ready for SPSS',\n",
       "  'Running stats in python',\n",
       "  'Running experiments/studys in python',\n",
       "  'Generating nice figures in python for my paper',\n",
       "  'Machine Learing'],\n",
       " ['Setting up python',\n",
       "  'Basic understanding of python',\n",
       "  'Processing my data in python in order tro get it ready for SPSS',\n",
       "  'Running stats in python',\n",
       "  'Running experiments/studys in python',\n",
       "  'Generating nice figures in python for my paper',\n",
       "  'Machine Learing'],\n",
       " ['Setting up python',\n",
       "  'Basic understanding of python',\n",
       "  'Processing my data in python in order tro get it ready for SPSS',\n",
       "  'Running stats in python',\n",
       "  'Running experiments/studys in python',\n",
       "  'Generating nice figures in python for my paper'],\n",
       " ['Generating nice figures in python for my paper', 'Machine Learing'],\n",
       " ['Processing my data in python in order tro get it ready for SPSS',\n",
       "  'Running stats in python',\n",
       "  'Running experiments/studys in python',\n",
       "  'Generating nice figures in python for my paper',\n",
       "  'Machine Learing'],\n",
       " ['Basic understanding of python',\n",
       "  'Processing my data in python in order tro get it ready for SPSS',\n",
       "  'Running experiments/studys in python',\n",
       "  'Generating nice figures in python for my paper'],\n",
       " ['Running stats in python',\n",
       "  'Generating nice figures in python for my paper',\n",
       "  'Machine Learing'],\n",
       " ['Setting up python',\n",
       "  'Basic understanding of python',\n",
       "  'Processing my data in python in order tro get it ready for SPSS',\n",
       "  'Running stats in python',\n",
       "  'Running experiments/studys in python',\n",
       "  'Generating nice figures in python for my paper',\n",
       "  'Machine Learing'],\n",
       " ['Processing my data in python in order tro get it ready for SPSS',\n",
       "  'Running stats in python',\n",
       "  'Generating nice figures in python for my paper',\n",
       "  'Machine Learing'],\n",
       " ['Machine Learing']]"
      ]
     },
     "execution_count": 64,
     "metadata": {},
     "output_type": "execute_result"
    }
   ],
   "source": [
    "df.Topics.str.split(\";\").tolist()"
   ]
  },
  {
   "cell_type": "code",
   "execution_count": 65,
   "metadata": {
    "collapsed": true
   },
   "outputs": [],
   "source": [
    "lst = []\n",
    "for d1 in df.Topics.str.split(\";\").tolist():\n",
    "    for d2 in d1:\n",
    "        lst.append(d2)"
   ]
  },
  {
   "cell_type": "code",
   "execution_count": 66,
   "metadata": {},
   "outputs": [
    {
     "data": {
      "text/plain": [
       "['Machine Learing',\n",
       " 'Processing my data in python in order tro get it ready for SPSS',\n",
       " 'Running stats in python',\n",
       " 'Running experiments/studys in python',\n",
       " 'Generating nice figures in python for my paper',\n",
       " 'Machine Learing',\n",
       " 'Setting up python',\n",
       " 'Basic understanding of python',\n",
       " 'Processing my data in python in order tro get it ready for SPSS',\n",
       " 'Running stats in python',\n",
       " 'Running experiments/studys in python',\n",
       " 'Generating nice figures in python for my paper',\n",
       " 'Machine Learing',\n",
       " 'Setting up python',\n",
       " 'Basic understanding of python',\n",
       " 'Processing my data in python in order tro get it ready for SPSS',\n",
       " 'Running stats in python',\n",
       " 'Running experiments/studys in python',\n",
       " 'Generating nice figures in python for my paper',\n",
       " 'Generating nice figures in python for my paper',\n",
       " 'Machine Learing',\n",
       " 'Processing my data in python in order tro get it ready for SPSS',\n",
       " 'Running stats in python',\n",
       " 'Running experiments/studys in python',\n",
       " 'Generating nice figures in python for my paper',\n",
       " 'Machine Learing',\n",
       " 'Basic understanding of python',\n",
       " 'Processing my data in python in order tro get it ready for SPSS',\n",
       " 'Running experiments/studys in python',\n",
       " 'Generating nice figures in python for my paper',\n",
       " 'Running stats in python',\n",
       " 'Generating nice figures in python for my paper',\n",
       " 'Machine Learing',\n",
       " 'Setting up python',\n",
       " 'Basic understanding of python',\n",
       " 'Processing my data in python in order tro get it ready for SPSS',\n",
       " 'Running stats in python',\n",
       " 'Running experiments/studys in python',\n",
       " 'Generating nice figures in python for my paper',\n",
       " 'Machine Learing',\n",
       " 'Processing my data in python in order tro get it ready for SPSS',\n",
       " 'Running stats in python',\n",
       " 'Generating nice figures in python for my paper',\n",
       " 'Machine Learing',\n",
       " 'Machine Learing']"
      ]
     },
     "execution_count": 66,
     "metadata": {},
     "output_type": "execute_result"
    }
   ],
   "source": [
    "lst"
   ]
  },
  {
   "cell_type": "code",
   "execution_count": 67,
   "metadata": {},
   "outputs": [
    {
     "data": {
      "text/html": [
       "<div>\n",
       "<table border=\"1\" class=\"dataframe\">\n",
       "  <thead>\n",
       "    <tr style=\"text-align: right;\">\n",
       "      <th></th>\n",
       "      <th>Topics</th>\n",
       "    </tr>\n",
       "  </thead>\n",
       "  <tbody>\n",
       "    <tr>\n",
       "      <th>0</th>\n",
       "      <td>Machine Learing</td>\n",
       "    </tr>\n",
       "    <tr>\n",
       "      <th>1</th>\n",
       "      <td>Processing my data in python in order tro get ...</td>\n",
       "    </tr>\n",
       "    <tr>\n",
       "      <th>2</th>\n",
       "      <td>Running stats in python</td>\n",
       "    </tr>\n",
       "    <tr>\n",
       "      <th>3</th>\n",
       "      <td>Running experiments/studys in python</td>\n",
       "    </tr>\n",
       "    <tr>\n",
       "      <th>4</th>\n",
       "      <td>Generating nice figures in python for my paper</td>\n",
       "    </tr>\n",
       "  </tbody>\n",
       "</table>\n",
       "</div>"
      ],
      "text/plain": [
       "                                              Topics\n",
       "0                                    Machine Learing\n",
       "1  Processing my data in python in order tro get ...\n",
       "2                            Running stats in python\n",
       "3               Running experiments/studys in python\n",
       "4     Generating nice figures in python for my paper"
      ]
     },
     "execution_count": 67,
     "metadata": {},
     "output_type": "execute_result"
    }
   ],
   "source": [
    "df1 = pd.DataFrame(lst, columns=[\"Topics\"])\n",
    "df1.head()"
   ]
  },
  {
   "cell_type": "code",
   "execution_count": 68,
   "metadata": {},
   "outputs": [
    {
     "data": {
      "text/plain": [
       "Machine Learing                                                    9\n",
       "Generating nice figures in python for my paper                     9\n",
       "Processing my data in python in order tro get it ready for SPSS    7\n",
       "Running stats in python                                            7\n",
       "Running experiments/studys in python                               6\n",
       "Basic understanding of python                                      4\n",
       "Setting up python                                                  3\n",
       "Name: Topics, dtype: int64"
      ]
     },
     "execution_count": 68,
     "metadata": {},
     "output_type": "execute_result"
    }
   ],
   "source": [
    "df1.Topics.value_counts()"
   ]
  },
  {
   "cell_type": "markdown",
   "metadata": {},
   "source": [
    "\n",
    "# By the way there is why more to Pandas then what I just showed\n",
    "* Multi index - df.set_index() df.reindex()\n",
    "* Sort - df.sort_index() df.sort_values()\n",
    "* GroupeBy - df.groupby() <- Next Chapter\n",
    "* Plot - df.plot() <- Next Chapter"
   ]
  }
 ],
 "metadata": {
  "kernelspec": {
   "display_name": "Python 3",
   "language": "python",
   "name": "python3"
  },
  "language_info": {
   "codemirror_mode": {
    "name": "ipython",
    "version": 3
   },
   "file_extension": ".py",
   "mimetype": "text/x-python",
   "name": "python",
   "nbconvert_exporter": "python",
   "pygments_lexer": "ipython3",
   "version": "3.6.1"
  }
 },
 "nbformat": 4,
 "nbformat_minor": 2
}
